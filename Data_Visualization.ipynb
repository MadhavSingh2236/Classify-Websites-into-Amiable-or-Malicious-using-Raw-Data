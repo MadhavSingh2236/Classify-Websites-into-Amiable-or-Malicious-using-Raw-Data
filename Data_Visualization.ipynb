{
 "cells": [
  {
   "cell_type": "code",
   "execution_count": 1,
   "metadata": {},
   "outputs": [
    {
     "name": "stderr",
     "output_type": "stream",
     "text": [
      "Warning message:\n",
      "\"package 'ggplot2' was built under R version 3.6.3\"Warning message:\n",
      "\"package 'readr' was built under R version 3.6.3\"Warning message:\n",
      "\"package 'dplyr' was built under R version 3.6.3\"\n",
      "Attaching package: 'dplyr'\n",
      "\n",
      "The following objects are masked from 'package:stats':\n",
      "\n",
      "    filter, lag\n",
      "\n",
      "The following objects are masked from 'package:base':\n",
      "\n",
      "    intersect, setdiff, setequal, union\n",
      "\n"
     ]
    }
   ],
   "source": [
    "library(ggplot2) # Data visualization\n",
    "library(readr)\n",
    "library(dplyr)# CSV file"
   ]
  },
  {
   "cell_type": "code",
   "execution_count": 2,
   "metadata": {},
   "outputs": [
    {
     "data": {
      "text/html": [
       "<table>\n",
       "<thead><tr><th scope=col>URL</th><th scope=col>URL_LENGTH</th><th scope=col>NUMBER_SPECIAL_CHARACTERS</th><th scope=col>CHARSET</th><th scope=col>SERVER</th><th scope=col>CONTENT_LENGTH</th><th scope=col>WHOIS_COUNTRY</th><th scope=col>WHOIS_STATEPRO</th><th scope=col>WHOIS_REGDATE</th><th scope=col>WHOIS_UPDATED_DATE</th><th scope=col>...</th><th scope=col>DIST_REMOTE_TCP_PORT</th><th scope=col>REMOTE_IPS</th><th scope=col>APP_BYTES</th><th scope=col>SOURCE_APP_PACKETS</th><th scope=col>REMOTE_APP_PACKETS</th><th scope=col>SOURCE_APP_BYTES</th><th scope=col>REMOTE_APP_BYTES</th><th scope=col>APP_PACKETS</th><th scope=col>DNS_QUERY_TIMES</th><th scope=col>Type</th></tr></thead>\n",
       "<tbody>\n",
       "\t<tr><td>M0_109               </td><td>16                   </td><td>7                    </td><td>iso-8859-1           </td><td>nginx                </td><td>   263               </td><td>None                 </td><td>None                 </td><td>10/10/2015 18:21     </td><td>None                 </td><td>...                  </td><td> 0                   </td><td>2                    </td><td> 700                 </td><td> 9                   </td><td>10                   </td><td>  1153               </td><td> 832                 </td><td> 9                   </td><td>2                    </td><td>1                    </td></tr>\n",
       "\t<tr><td>B0_2314              </td><td>16                   </td><td>6                    </td><td>UTF-8                </td><td>Apache/2.4.10        </td><td> 15087               </td><td>None                 </td><td>None                 </td><td>None                 </td><td>None                 </td><td>...                  </td><td> 7                   </td><td>4                    </td><td>1230                 </td><td>17                   </td><td>19                   </td><td>  1265               </td><td>1230                 </td><td>17                   </td><td>0                    </td><td>0                    </td></tr>\n",
       "\t<tr><td>B0_911               </td><td>16                   </td><td>6                    </td><td>us-ascii             </td><td>Microsoft-HTTPAPI/2.0</td><td>   324               </td><td>None                 </td><td>None                 </td><td>None                 </td><td>None                 </td><td>...                  </td><td> 0                   </td><td>0                    </td><td>   0                 </td><td> 0                   </td><td> 0                   </td><td>     0               </td><td>   0                 </td><td> 0                   </td><td>0                    </td><td>0                    </td></tr>\n",
       "\t<tr><td>B0_113               </td><td>17                   </td><td>6                    </td><td>ISO-8859-1           </td><td>nginx                </td><td>   162               </td><td>US                   </td><td>AK                   </td><td>7/10/1997 4:00       </td><td>12/09/2013 0:45      </td><td>...                  </td><td>22                   </td><td>3                    </td><td>3812                 </td><td>39                   </td><td>37                   </td><td> 18784               </td><td>4380                 </td><td>39                   </td><td>8                    </td><td>0                    </td></tr>\n",
       "\t<tr><td>B0_403               </td><td>17                   </td><td>6                    </td><td>UTF-8                </td><td>None                 </td><td>124140               </td><td>US                   </td><td>TX                   </td><td>12/05/1996 0:00      </td><td>11/04/2017 0:00      </td><td>...                  </td><td> 2                   </td><td>5                    </td><td>4278                 </td><td>61                   </td><td>62                   </td><td>129889               </td><td>4586                 </td><td>61                   </td><td>4                    </td><td>0                    </td></tr>\n",
       "\t<tr><td>B0_2064              </td><td>18                   </td><td>7                    </td><td>UTF-8                </td><td>nginx                </td><td>    NA               </td><td>SC                   </td><td>Mahe                 </td><td>3/08/2016 14:30      </td><td>3/10/2016 3:45       </td><td>...                  </td><td> 6                   </td><td>9                    </td><td> 894                 </td><td>11                   </td><td>13                   </td><td>   838               </td><td> 894                 </td><td>11                   </td><td>0                    </td><td>0                    </td></tr>\n",
       "</tbody>\n",
       "</table>\n"
      ],
      "text/latex": [
       "\\begin{tabular}{r|lllllllllllllllllllll}\n",
       " URL & URL\\_LENGTH & NUMBER\\_SPECIAL\\_CHARACTERS & CHARSET & SERVER & CONTENT\\_LENGTH & WHOIS\\_COUNTRY & WHOIS\\_STATEPRO & WHOIS\\_REGDATE & WHOIS\\_UPDATED\\_DATE & ... & DIST\\_REMOTE\\_TCP\\_PORT & REMOTE\\_IPS & APP\\_BYTES & SOURCE\\_APP\\_PACKETS & REMOTE\\_APP\\_PACKETS & SOURCE\\_APP\\_BYTES & REMOTE\\_APP\\_BYTES & APP\\_PACKETS & DNS\\_QUERY\\_TIMES & Type\\\\\n",
       "\\hline\n",
       "\t M0\\_109              & 16                    & 7                     & iso-8859-1            & nginx                 &    263                & None                  & None                  & 10/10/2015 18:21      & None                  & ...                   &  0                    & 2                     &  700                  &  9                    & 10                    &   1153                &  832                  &  9                    & 2                     & 1                    \\\\\n",
       "\t B0\\_2314             & 16                    & 6                     & UTF-8                 & Apache/2.4.10         &  15087                & None                  & None                  & None                  & None                  & ...                   &  7                    & 4                     & 1230                  & 17                    & 19                    &   1265                & 1230                  & 17                    & 0                     & 0                    \\\\\n",
       "\t B0\\_911              & 16                    & 6                     & us-ascii              & Microsoft-HTTPAPI/2.0 &    324                & None                  & None                  & None                  & None                  & ...                   &  0                    & 0                     &    0                  &  0                    &  0                    &      0                &    0                  &  0                    & 0                     & 0                    \\\\\n",
       "\t B0\\_113              & 17                    & 6                     & ISO-8859-1            & nginx                 &    162                & US                    & AK                    & 7/10/1997 4:00        & 12/09/2013 0:45       & ...                   & 22                    & 3                     & 3812                  & 39                    & 37                    &  18784                & 4380                  & 39                    & 8                     & 0                    \\\\\n",
       "\t B0\\_403              & 17                    & 6                     & UTF-8                 & None                  & 124140                & US                    & TX                    & 12/05/1996 0:00       & 11/04/2017 0:00       & ...                   &  2                    & 5                     & 4278                  & 61                    & 62                    & 129889                & 4586                  & 61                    & 4                     & 0                    \\\\\n",
       "\t B0\\_2064             & 18                    & 7                     & UTF-8                 & nginx                 &     NA                & SC                    & Mahe                  & 3/08/2016 14:30       & 3/10/2016 3:45        & ...                   &  6                    & 9                     &  894                  & 11                    & 13                    &    838                &  894                  & 11                    & 0                     & 0                    \\\\\n",
       "\\end{tabular}\n"
      ],
      "text/markdown": [
       "\n",
       "| URL | URL_LENGTH | NUMBER_SPECIAL_CHARACTERS | CHARSET | SERVER | CONTENT_LENGTH | WHOIS_COUNTRY | WHOIS_STATEPRO | WHOIS_REGDATE | WHOIS_UPDATED_DATE | ... | DIST_REMOTE_TCP_PORT | REMOTE_IPS | APP_BYTES | SOURCE_APP_PACKETS | REMOTE_APP_PACKETS | SOURCE_APP_BYTES | REMOTE_APP_BYTES | APP_PACKETS | DNS_QUERY_TIMES | Type |\n",
       "|---|---|---|---|---|---|---|---|---|---|---|---|---|---|---|---|---|---|---|---|---|\n",
       "| M0_109                | 16                    | 7                     | iso-8859-1            | nginx                 |    263                | None                  | None                  | 10/10/2015 18:21      | None                  | ...                   |  0                    | 2                     |  700                  |  9                    | 10                    |   1153                |  832                  |  9                    | 2                     | 1                     |\n",
       "| B0_2314               | 16                    | 6                     | UTF-8                 | Apache/2.4.10         |  15087                | None                  | None                  | None                  | None                  | ...                   |  7                    | 4                     | 1230                  | 17                    | 19                    |   1265                | 1230                  | 17                    | 0                     | 0                     |\n",
       "| B0_911                | 16                    | 6                     | us-ascii              | Microsoft-HTTPAPI/2.0 |    324                | None                  | None                  | None                  | None                  | ...                   |  0                    | 0                     |    0                  |  0                    |  0                    |      0                |    0                  |  0                    | 0                     | 0                     |\n",
       "| B0_113                | 17                    | 6                     | ISO-8859-1            | nginx                 |    162                | US                    | AK                    | 7/10/1997 4:00        | 12/09/2013 0:45       | ...                   | 22                    | 3                     | 3812                  | 39                    | 37                    |  18784                | 4380                  | 39                    | 8                     | 0                     |\n",
       "| B0_403                | 17                    | 6                     | UTF-8                 | None                  | 124140                | US                    | TX                    | 12/05/1996 0:00       | 11/04/2017 0:00       | ...                   |  2                    | 5                     | 4278                  | 61                    | 62                    | 129889                | 4586                  | 61                    | 4                     | 0                     |\n",
       "| B0_2064               | 18                    | 7                     | UTF-8                 | nginx                 |     NA                | SC                    | Mahe                  | 3/08/2016 14:30       | 3/10/2016 3:45        | ...                   |  6                    | 9                     |  894                  | 11                    | 13                    |    838                |  894                  | 11                    | 0                     | 0                     |\n",
       "\n"
      ],
      "text/plain": [
       "  URL     URL_LENGTH NUMBER_SPECIAL_CHARACTERS CHARSET    SERVER               \n",
       "1 M0_109  16         7                         iso-8859-1 nginx                \n",
       "2 B0_2314 16         6                         UTF-8      Apache/2.4.10        \n",
       "3 B0_911  16         6                         us-ascii   Microsoft-HTTPAPI/2.0\n",
       "4 B0_113  17         6                         ISO-8859-1 nginx                \n",
       "5 B0_403  17         6                         UTF-8      None                 \n",
       "6 B0_2064 18         7                         UTF-8      nginx                \n",
       "  CONTENT_LENGTH WHOIS_COUNTRY WHOIS_STATEPRO WHOIS_REGDATE   \n",
       "1    263         None          None           10/10/2015 18:21\n",
       "2  15087         None          None           None            \n",
       "3    324         None          None           None            \n",
       "4    162         US            AK             7/10/1997 4:00  \n",
       "5 124140         US            TX             12/05/1996 0:00 \n",
       "6     NA         SC            Mahe           3/08/2016 14:30 \n",
       "  WHOIS_UPDATED_DATE ... DIST_REMOTE_TCP_PORT REMOTE_IPS APP_BYTES\n",
       "1 None               ...  0                   2           700     \n",
       "2 None               ...  7                   4          1230     \n",
       "3 None               ...  0                   0             0     \n",
       "4 12/09/2013 0:45    ... 22                   3          3812     \n",
       "5 11/04/2017 0:00    ...  2                   5          4278     \n",
       "6 3/10/2016 3:45     ...  6                   9           894     \n",
       "  SOURCE_APP_PACKETS REMOTE_APP_PACKETS SOURCE_APP_BYTES REMOTE_APP_BYTES\n",
       "1  9                 10                   1153            832            \n",
       "2 17                 19                   1265           1230            \n",
       "3  0                  0                      0              0            \n",
       "4 39                 37                  18784           4380            \n",
       "5 61                 62                 129889           4586            \n",
       "6 11                 13                    838            894            \n",
       "  APP_PACKETS DNS_QUERY_TIMES Type\n",
       "1  9          2               1   \n",
       "2 17          0               0   \n",
       "3  0          0               0   \n",
       "4 39          8               0   \n",
       "5 61          4               0   \n",
       "6 11          0               0   "
      ]
     },
     "metadata": {},
     "output_type": "display_data"
    }
   ],
   "source": [
    "train <- read.csv(\"dataset.csv\",header = TRUE)\n",
    "head(train)"
   ]
  },
  {
   "cell_type": "code",
   "execution_count": 3,
   "metadata": {},
   "outputs": [
    {
     "data": {
      "text/html": [
       "<ol class=list-inline>\n",
       "\t<li>1781</li>\n",
       "\t<li>21</li>\n",
       "</ol>\n"
      ],
      "text/latex": [
       "\\begin{enumerate*}\n",
       "\\item 1781\n",
       "\\item 21\n",
       "\\end{enumerate*}\n"
      ],
      "text/markdown": [
       "1. 1781\n",
       "2. 21\n",
       "\n",
       "\n"
      ],
      "text/plain": [
       "[1] 1781   21"
      ]
     },
     "metadata": {},
     "output_type": "display_data"
    }
   ],
   "source": [
    "dim(train)"
   ]
  },
  {
   "cell_type": "code",
   "execution_count": 4,
   "metadata": {},
   "outputs": [
    {
     "name": "stdout",
     "output_type": "stream",
     "text": [
      "'data.frame':\t1781 obs. of  21 variables:\n",
      " $ URL                      : Factor w/ 1781 levels \"B0_1\",\"B0_10\",..: 1575 797 1480 133 983 548 1043 131 1705 1706 ...\n",
      " $ URL_LENGTH               : int  16 16 16 17 17 18 18 19 20 20 ...\n",
      " $ NUMBER_SPECIAL_CHARACTERS: int  7 6 6 6 6 7 6 6 5 5 ...\n",
      " $ CHARSET                  : Factor w/ 9 levels \"ISO-8859\",\"iso-8859-1\",..: 2 7 5 3 7 7 2 5 6 6 ...\n",
      " $ SERVER                   : Factor w/ 239 levels \".V01 Apache\",..: 177 60 124 177 210 177 16 124 188 188 ...\n",
      " $ CONTENT_LENGTH           : int  263 15087 324 162 124140 NA 345 324 NA NA ...\n",
      " $ WHOIS_COUNTRY            : Factor w/ 49 levels \"[u'GB'; u'UK']\",..: 31 31 31 48 48 37 48 48 31 31 ...\n",
      " $ WHOIS_STATEPRO           : Factor w/ 182 levels \"-\",\"--\",\"6110021\",..: 104 104 104 6 156 71 32 41 104 104 ...\n",
      " $ WHOIS_REGDATE            : Factor w/ 891 levels \"0\",\"1/02/1994 0:00\",..: 60 891 891 807 94 645 608 259 846 846 ...\n",
      " $ WHOIS_UPDATED_DATE       : Factor w/ 594 levels \"1/01/2017 0:00\",..: 594 594 594 69 43 443 11 203 594 594 ...\n",
      " $ TCP_CONVERSATION_EXCHANGE: int  7 17 0 31 57 11 12 0 0 0 ...\n",
      " $ DIST_REMOTE_TCP_PORT     : int  0 7 0 22 2 6 0 0 0 0 ...\n",
      " $ REMOTE_IPS               : int  2 4 0 3 5 9 3 0 0 0 ...\n",
      " $ APP_BYTES                : int  700 1230 0 3812 4278 894 1189 0 0 0 ...\n",
      " $ SOURCE_APP_PACKETS       : int  9 17 0 39 61 11 14 0 2 2 ...\n",
      " $ REMOTE_APP_PACKETS       : int  10 19 0 37 62 13 13 0 3 1 ...\n",
      " $ SOURCE_APP_BYTES         : int  1153 1265 0 18784 129889 838 8559 0 213 62 ...\n",
      " $ REMOTE_APP_BYTES         : int  832 1230 0 4380 4586 894 1327 0 146 146 ...\n",
      " $ APP_PACKETS              : int  9 17 0 39 61 11 14 0 2 2 ...\n",
      " $ DNS_QUERY_TIMES          : int  2 0 0 8 4 0 2 0 2 2 ...\n",
      " $ Type                     : int  1 0 0 0 0 0 0 0 1 1 ...\n"
     ]
    }
   ],
   "source": [
    "str(train)"
   ]
  },
  {
   "cell_type": "code",
   "execution_count": 5,
   "metadata": {},
   "outputs": [
    {
     "data": {
      "text/plain": [
       "      URL         URL_LENGTH     NUMBER_SPECIAL_CHARACTERS       CHARSET   \n",
       " B0_1   :   1   Min.   : 16.00   Min.   : 5.00             UTF-8     :676  \n",
       " B0_10  :   1   1st Qu.: 39.00   1st Qu.: 8.00             ISO-8859-1:427  \n",
       " B0_100 :   1   Median : 49.00   Median :10.00             utf-8     :379  \n",
       " B0_1000:   1   Mean   : 56.96   Mean   :11.11             us-ascii  :155  \n",
       " B0_1001:   1   3rd Qu.: 68.00   3rd Qu.:13.00             iso-8859-1:134  \n",
       " B0_1002:   1   Max.   :249.00   Max.   :43.00             None      :  7  \n",
       " (Other):1775                                              (Other)   :  3  \n",
       "                   SERVER    CONTENT_LENGTH   WHOIS_COUNTRY    WHOIS_STATEPRO\n",
       " Apache               :386   Min.   :     0   US     :1103   CA       :372   \n",
       " nginx                :211   1st Qu.:   324   None   : 306   None     :362   \n",
       " None                 :175   Median :  1853   CA     :  84   NY       : 75   \n",
       " Microsoft-HTTPAPI/2.0:113   Mean   : 11727   ES     :  63   WA       : 65   \n",
       " cloudflare-nginx     : 94   3rd Qu.: 11323   AU     :  35   Barcelona: 62   \n",
       " (Other)              :801   Max.   :649263   PA     :  21   FL       : 61   \n",
       " NA's                 :  1   NA's   :812      (Other): 169   (Other)  :784   \n",
       "         WHOIS_REGDATE         WHOIS_UPDATED_DATE TCP_CONVERSATION_EXCHANGE\n",
       " None           : 127   None            : 139     Min.   :   0.00          \n",
       " 17/09/2008 0:00:  62   2/09/2016 0:00  :  64     1st Qu.:   0.00          \n",
       " 13/01/2001 0:12:  59   12/12/2015 10:16:  59     Median :   7.00          \n",
       " 31/07/2000 0:00:  47   29/06/2016 0:00 :  47     Mean   :  16.26          \n",
       " 15/02/2005 0:00:  41   14/01/2017 0:00 :  42     3rd Qu.:  22.00          \n",
       " 29/03/1997 0:00:  33   29/11/2016 0:00 :  36     Max.   :1194.00          \n",
       " (Other)        :1412   (Other)         :1394                              \n",
       " DIST_REMOTE_TCP_PORT   REMOTE_IPS       APP_BYTES       SOURCE_APP_PACKETS\n",
       " Min.   :  0.000      Min.   : 0.000   Min.   :      0   Min.   :   0.00   \n",
       " 1st Qu.:  0.000      1st Qu.: 0.000   1st Qu.:      0   1st Qu.:   0.00   \n",
       " Median :  0.000      Median : 2.000   Median :    672   Median :   8.00   \n",
       " Mean   :  5.473      Mean   : 3.061   Mean   :   2982   Mean   :  18.54   \n",
       " 3rd Qu.:  5.000      3rd Qu.: 5.000   3rd Qu.:   2328   3rd Qu.:  26.00   \n",
       " Max.   :708.000      Max.   :17.000   Max.   :2362906   Max.   :1198.00   \n",
       "                                                                           \n",
       " REMOTE_APP_PACKETS SOURCE_APP_BYTES  REMOTE_APP_BYTES   APP_PACKETS     \n",
       " Min.   :   0.00    Min.   :      0   Min.   :      0   Min.   :   0.00  \n",
       " 1st Qu.:   0.00    1st Qu.:      0   1st Qu.:      0   1st Qu.:   0.00  \n",
       " Median :   9.00    Median :    579   Median :    735   Median :   8.00  \n",
       " Mean   :  18.75    Mean   :  15892   Mean   :   3156   Mean   :  18.54  \n",
       " 3rd Qu.:  25.00    3rd Qu.:   9806   3rd Qu.:   2701   3rd Qu.:  26.00  \n",
       " Max.   :1284.00    Max.   :2060012   Max.   :2362906   Max.   :1198.00  \n",
       "                                                                         \n",
       " DNS_QUERY_TIMES       Type       \n",
       " Min.   : 0.000   Min.   :0.0000  \n",
       " 1st Qu.: 0.000   1st Qu.:0.0000  \n",
       " Median : 0.000   Median :0.0000  \n",
       " Mean   : 2.263   Mean   :0.1213  \n",
       " 3rd Qu.: 4.000   3rd Qu.:0.0000  \n",
       " Max.   :20.000   Max.   :1.0000  \n",
       " NA's   :1                        "
      ]
     },
     "metadata": {},
     "output_type": "display_data"
    }
   ],
   "source": [
    "summary(train)\n"
   ]
  },
  {
   "cell_type": "code",
   "execution_count": 6,
   "metadata": {},
   "outputs": [
    {
     "data": {
      "text/html": [
       "1781"
      ],
      "text/latex": [
       "1781"
      ],
      "text/markdown": [
       "1781"
      ],
      "text/plain": [
       "[1] 1781"
      ]
     },
     "metadata": {},
     "output_type": "display_data"
    }
   ],
   "source": [
    "nrow(train)\n"
   ]
  },
  {
   "cell_type": "code",
   "execution_count": 7,
   "metadata": {},
   "outputs": [
    {
     "data": {
      "text/html": [
       "21"
      ],
      "text/latex": [
       "21"
      ],
      "text/markdown": [
       "21"
      ],
      "text/plain": [
       "[1] 21"
      ]
     },
     "metadata": {},
     "output_type": "display_data"
    }
   ],
   "source": [
    "ncol(train)\n"
   ]
  },
  {
   "cell_type": "code",
   "execution_count": 8,
   "metadata": {},
   "outputs": [
    {
     "data": {
      "text/html": [
       "<dl class=dl-horizontal>\n",
       "\t<dt>URL</dt>\n",
       "\t\t<dd>0</dd>\n",
       "\t<dt>URL_LENGTH</dt>\n",
       "\t\t<dd>0</dd>\n",
       "\t<dt>NUMBER_SPECIAL_CHARACTERS</dt>\n",
       "\t\t<dd>0</dd>\n",
       "\t<dt>CHARSET</dt>\n",
       "\t\t<dd>0</dd>\n",
       "\t<dt>SERVER</dt>\n",
       "\t\t<dd>1</dd>\n",
       "\t<dt>CONTENT_LENGTH</dt>\n",
       "\t\t<dd>812</dd>\n",
       "\t<dt>WHOIS_COUNTRY</dt>\n",
       "\t\t<dd>0</dd>\n",
       "\t<dt>WHOIS_STATEPRO</dt>\n",
       "\t\t<dd>0</dd>\n",
       "\t<dt>WHOIS_REGDATE</dt>\n",
       "\t\t<dd>0</dd>\n",
       "\t<dt>WHOIS_UPDATED_DATE</dt>\n",
       "\t\t<dd>0</dd>\n",
       "\t<dt>TCP_CONVERSATION_EXCHANGE</dt>\n",
       "\t\t<dd>0</dd>\n",
       "\t<dt>DIST_REMOTE_TCP_PORT</dt>\n",
       "\t\t<dd>0</dd>\n",
       "\t<dt>REMOTE_IPS</dt>\n",
       "\t\t<dd>0</dd>\n",
       "\t<dt>APP_BYTES</dt>\n",
       "\t\t<dd>0</dd>\n",
       "\t<dt>SOURCE_APP_PACKETS</dt>\n",
       "\t\t<dd>0</dd>\n",
       "\t<dt>REMOTE_APP_PACKETS</dt>\n",
       "\t\t<dd>0</dd>\n",
       "\t<dt>SOURCE_APP_BYTES</dt>\n",
       "\t\t<dd>0</dd>\n",
       "\t<dt>REMOTE_APP_BYTES</dt>\n",
       "\t\t<dd>0</dd>\n",
       "\t<dt>APP_PACKETS</dt>\n",
       "\t\t<dd>0</dd>\n",
       "\t<dt>DNS_QUERY_TIMES</dt>\n",
       "\t\t<dd>1</dd>\n",
       "\t<dt>Type</dt>\n",
       "\t\t<dd>0</dd>\n",
       "</dl>\n"
      ],
      "text/latex": [
       "\\begin{description*}\n",
       "\\item[URL] 0\n",
       "\\item[URL\\textbackslash{}\\_LENGTH] 0\n",
       "\\item[NUMBER\\textbackslash{}\\_SPECIAL\\textbackslash{}\\_CHARACTERS] 0\n",
       "\\item[CHARSET] 0\n",
       "\\item[SERVER] 1\n",
       "\\item[CONTENT\\textbackslash{}\\_LENGTH] 812\n",
       "\\item[WHOIS\\textbackslash{}\\_COUNTRY] 0\n",
       "\\item[WHOIS\\textbackslash{}\\_STATEPRO] 0\n",
       "\\item[WHOIS\\textbackslash{}\\_REGDATE] 0\n",
       "\\item[WHOIS\\textbackslash{}\\_UPDATED\\textbackslash{}\\_DATE] 0\n",
       "\\item[TCP\\textbackslash{}\\_CONVERSATION\\textbackslash{}\\_EXCHANGE] 0\n",
       "\\item[DIST\\textbackslash{}\\_REMOTE\\textbackslash{}\\_TCP\\textbackslash{}\\_PORT] 0\n",
       "\\item[REMOTE\\textbackslash{}\\_IPS] 0\n",
       "\\item[APP\\textbackslash{}\\_BYTES] 0\n",
       "\\item[SOURCE\\textbackslash{}\\_APP\\textbackslash{}\\_PACKETS] 0\n",
       "\\item[REMOTE\\textbackslash{}\\_APP\\textbackslash{}\\_PACKETS] 0\n",
       "\\item[SOURCE\\textbackslash{}\\_APP\\textbackslash{}\\_BYTES] 0\n",
       "\\item[REMOTE\\textbackslash{}\\_APP\\textbackslash{}\\_BYTES] 0\n",
       "\\item[APP\\textbackslash{}\\_PACKETS] 0\n",
       "\\item[DNS\\textbackslash{}\\_QUERY\\textbackslash{}\\_TIMES] 1\n",
       "\\item[Type] 0\n",
       "\\end{description*}\n"
      ],
      "text/markdown": [
       "URL\n",
       ":   0URL_LENGTH\n",
       ":   0NUMBER_SPECIAL_CHARACTERS\n",
       ":   0CHARSET\n",
       ":   0SERVER\n",
       ":   1CONTENT_LENGTH\n",
       ":   812WHOIS_COUNTRY\n",
       ":   0WHOIS_STATEPRO\n",
       ":   0WHOIS_REGDATE\n",
       ":   0WHOIS_UPDATED_DATE\n",
       ":   0TCP_CONVERSATION_EXCHANGE\n",
       ":   0DIST_REMOTE_TCP_PORT\n",
       ":   0REMOTE_IPS\n",
       ":   0APP_BYTES\n",
       ":   0SOURCE_APP_PACKETS\n",
       ":   0REMOTE_APP_PACKETS\n",
       ":   0SOURCE_APP_BYTES\n",
       ":   0REMOTE_APP_BYTES\n",
       ":   0APP_PACKETS\n",
       ":   0DNS_QUERY_TIMES\n",
       ":   1Type\n",
       ":   0\n",
       "\n"
      ],
      "text/plain": [
       "                      URL                URL_LENGTH NUMBER_SPECIAL_CHARACTERS \n",
       "                        0                         0                         0 \n",
       "                  CHARSET                    SERVER            CONTENT_LENGTH \n",
       "                        0                         1                       812 \n",
       "            WHOIS_COUNTRY            WHOIS_STATEPRO             WHOIS_REGDATE \n",
       "                        0                         0                         0 \n",
       "       WHOIS_UPDATED_DATE TCP_CONVERSATION_EXCHANGE      DIST_REMOTE_TCP_PORT \n",
       "                        0                         0                         0 \n",
       "               REMOTE_IPS                 APP_BYTES        SOURCE_APP_PACKETS \n",
       "                        0                         0                         0 \n",
       "       REMOTE_APP_PACKETS          SOURCE_APP_BYTES          REMOTE_APP_BYTES \n",
       "                        0                         0                         0 \n",
       "              APP_PACKETS           DNS_QUERY_TIMES                      Type \n",
       "                        0                         1                         0 "
      ]
     },
     "metadata": {},
     "output_type": "display_data"
    }
   ],
   "source": [
    "#missing values\n",
    "colSums(sapply(train,is.na))"
   ]
  },
  {
   "cell_type": "code",
   "execution_count": 9,
   "metadata": {},
   "outputs": [
    {
     "data": {
      "text/html": [
       "<table>\n",
       "<thead><tr><th></th><th scope=col>URL</th><th scope=col>URL_LENGTH</th><th scope=col>NUMBER_SPECIAL_CHARACTERS</th><th scope=col>CHARSET</th><th scope=col>SERVER</th><th scope=col>CONTENT_LENGTH</th><th scope=col>WHOIS_COUNTRY</th><th scope=col>WHOIS_STATEPRO</th><th scope=col>WHOIS_REGDATE</th><th scope=col>WHOIS_UPDATED_DATE</th><th scope=col>...</th><th scope=col>DIST_REMOTE_TCP_PORT</th><th scope=col>REMOTE_IPS</th><th scope=col>APP_BYTES</th><th scope=col>SOURCE_APP_PACKETS</th><th scope=col>REMOTE_APP_PACKETS</th><th scope=col>SOURCE_APP_BYTES</th><th scope=col>REMOTE_APP_BYTES</th><th scope=col>APP_PACKETS</th><th scope=col>DNS_QUERY_TIMES</th><th scope=col>Type</th></tr></thead>\n",
       "<tbody>\n",
       "\t<tr><th scope=row>1776</th><td>M4_45                 </td><td>194                   </td><td>17                    </td><td>UTF-8                 </td><td>Apache                </td><td>   NA                 </td><td>ES                    </td><td>Barcelona             </td><td>17/09/2008 0:00       </td><td>2/09/2016 0:00        </td><td>...                   </td><td>0                     </td><td> 0                    </td><td>   0                  </td><td> 0                    </td><td> 3                    </td><td>   186                </td><td>   0                  </td><td> 0                    </td><td>0                     </td><td>1                     </td></tr>\n",
       "\t<tr><th scope=row>1777</th><td>M4_48                 </td><td>194                   </td><td>16                    </td><td>UTF-8                 </td><td>Apache                </td><td>   NA                 </td><td>ES                    </td><td>Barcelona             </td><td>17/09/2008 0:00       </td><td>2/09/2016 0:00        </td><td>...                   </td><td>0                     </td><td> 0                    </td><td>   0                  </td><td> 0                    </td><td> 3                    </td><td>   186                </td><td>   0                  </td><td> 0                    </td><td>0                     </td><td>1                     </td></tr>\n",
       "\t<tr><th scope=row>1778</th><td>M4_41                 </td><td>198                   </td><td>17                    </td><td>UTF-8                 </td><td>Apache                </td><td>   NA                 </td><td>ES                    </td><td>Barcelona             </td><td>17/09/2008 0:00       </td><td>2/09/2016 0:00        </td><td>...                   </td><td>0                     </td><td> 0                    </td><td>   0                  </td><td> 0                    </td><td> 2                    </td><td>   124                </td><td>   0                  </td><td> 0                    </td><td>0                     </td><td>1                     </td></tr>\n",
       "\t<tr><th scope=row>1779</th><td>B0_162                </td><td>201                   </td><td>34                    </td><td>utf-8                 </td><td>Apache/2.2.16 (Debian)</td><td> 8904                 </td><td>US                    </td><td>FL                    </td><td>15/02/1999 0:00       </td><td>15/07/2015 0:00       </td><td>...                   </td><td>2                     </td><td> 6                    </td><td>6631                  </td><td>87                    </td><td>89                    </td><td>132181                </td><td>6945                  </td><td>87                    </td><td>4                     </td><td>0                     </td></tr>\n",
       "\t<tr><th scope=row>1780</th><td>B0_1152               </td><td>234                   </td><td>34                    </td><td>ISO-8859-1            </td><td>cloudflare-nginx      </td><td>   NA                 </td><td>US                    </td><td>CA                    </td><td>1/04/1998 0:00        </td><td>9/12/2016 0:00        </td><td>...                   </td><td>0                     </td><td> 0                    </td><td>   0                  </td><td> 0                    </td><td> 0                    </td><td>     0                </td><td>   0                  </td><td> 0                    </td><td>0                     </td><td>0                     </td></tr>\n",
       "\t<tr><th scope=row>1781</th><td>B0_676                </td><td>249                   </td><td>40                    </td><td>utf-8                 </td><td>Microsoft-IIS/8.5     </td><td>24435                 </td><td>US                    </td><td>Wisconsin             </td><td>14/11/2008 0:00       </td><td>20/11/2013 0:00       </td><td>...                   </td><td>6                     </td><td>11                    </td><td>2314                  </td><td>25                    </td><td>28                    </td><td>  3039                </td><td>2776                  </td><td>25                    </td><td>6                     </td><td>0                     </td></tr>\n",
       "</tbody>\n",
       "</table>\n"
      ],
      "text/latex": [
       "\\begin{tabular}{r|lllllllllllllllllllll}\n",
       "  & URL & URL\\_LENGTH & NUMBER\\_SPECIAL\\_CHARACTERS & CHARSET & SERVER & CONTENT\\_LENGTH & WHOIS\\_COUNTRY & WHOIS\\_STATEPRO & WHOIS\\_REGDATE & WHOIS\\_UPDATED\\_DATE & ... & DIST\\_REMOTE\\_TCP\\_PORT & REMOTE\\_IPS & APP\\_BYTES & SOURCE\\_APP\\_PACKETS & REMOTE\\_APP\\_PACKETS & SOURCE\\_APP\\_BYTES & REMOTE\\_APP\\_BYTES & APP\\_PACKETS & DNS\\_QUERY\\_TIMES & Type\\\\\n",
       "\\hline\n",
       "\t1776 & M4\\_45                & 194                    & 17                     & UTF-8                  & Apache                 &    NA                  & ES                     & Barcelona              & 17/09/2008 0:00        & 2/09/2016 0:00         & ...                    & 0                      &  0                     &    0                   &  0                     &  3                     &    186                 &    0                   &  0                     & 0                      & 1                     \\\\\n",
       "\t1777 & M4\\_48                & 194                    & 16                     & UTF-8                  & Apache                 &    NA                  & ES                     & Barcelona              & 17/09/2008 0:00        & 2/09/2016 0:00         & ...                    & 0                      &  0                     &    0                   &  0                     &  3                     &    186                 &    0                   &  0                     & 0                      & 1                     \\\\\n",
       "\t1778 & M4\\_41                & 198                    & 17                     & UTF-8                  & Apache                 &    NA                  & ES                     & Barcelona              & 17/09/2008 0:00        & 2/09/2016 0:00         & ...                    & 0                      &  0                     &    0                   &  0                     &  2                     &    124                 &    0                   &  0                     & 0                      & 1                     \\\\\n",
       "\t1779 & B0\\_162               & 201                    & 34                     & utf-8                  & Apache/2.2.16 (Debian) &  8904                  & US                     & FL                     & 15/02/1999 0:00        & 15/07/2015 0:00        & ...                    & 2                      &  6                     & 6631                   & 87                     & 89                     & 132181                 & 6945                   & 87                     & 4                      & 0                     \\\\\n",
       "\t1780 & B0\\_1152              & 234                    & 34                     & ISO-8859-1             & cloudflare-nginx       &    NA                  & US                     & CA                     & 1/04/1998 0:00         & 9/12/2016 0:00         & ...                    & 0                      &  0                     &    0                   &  0                     &  0                     &      0                 &    0                   &  0                     & 0                      & 0                     \\\\\n",
       "\t1781 & B0\\_676               & 249                    & 40                     & utf-8                  & Microsoft-IIS/8.5      & 24435                  & US                     & Wisconsin              & 14/11/2008 0:00        & 20/11/2013 0:00        & ...                    & 6                      & 11                     & 2314                   & 25                     & 28                     &   3039                 & 2776                   & 25                     & 6                      & 0                     \\\\\n",
       "\\end{tabular}\n"
      ],
      "text/markdown": [
       "\n",
       "| <!--/--> | URL | URL_LENGTH | NUMBER_SPECIAL_CHARACTERS | CHARSET | SERVER | CONTENT_LENGTH | WHOIS_COUNTRY | WHOIS_STATEPRO | WHOIS_REGDATE | WHOIS_UPDATED_DATE | ... | DIST_REMOTE_TCP_PORT | REMOTE_IPS | APP_BYTES | SOURCE_APP_PACKETS | REMOTE_APP_PACKETS | SOURCE_APP_BYTES | REMOTE_APP_BYTES | APP_PACKETS | DNS_QUERY_TIMES | Type |\n",
       "|---|---|---|---|---|---|---|---|---|---|---|---|---|---|---|---|---|---|---|---|---|---|\n",
       "| 1776 | M4_45                  | 194                    | 17                     | UTF-8                  | Apache                 |    NA                  | ES                     | Barcelona              | 17/09/2008 0:00        | 2/09/2016 0:00         | ...                    | 0                      |  0                     |    0                   |  0                     |  3                     |    186                 |    0                   |  0                     | 0                      | 1                      |\n",
       "| 1777 | M4_48                  | 194                    | 16                     | UTF-8                  | Apache                 |    NA                  | ES                     | Barcelona              | 17/09/2008 0:00        | 2/09/2016 0:00         | ...                    | 0                      |  0                     |    0                   |  0                     |  3                     |    186                 |    0                   |  0                     | 0                      | 1                      |\n",
       "| 1778 | M4_41                  | 198                    | 17                     | UTF-8                  | Apache                 |    NA                  | ES                     | Barcelona              | 17/09/2008 0:00        | 2/09/2016 0:00         | ...                    | 0                      |  0                     |    0                   |  0                     |  2                     |    124                 |    0                   |  0                     | 0                      | 1                      |\n",
       "| 1779 | B0_162                 | 201                    | 34                     | utf-8                  | Apache/2.2.16 (Debian) |  8904                  | US                     | FL                     | 15/02/1999 0:00        | 15/07/2015 0:00        | ...                    | 2                      |  6                     | 6631                   | 87                     | 89                     | 132181                 | 6945                   | 87                     | 4                      | 0                      |\n",
       "| 1780 | B0_1152                | 234                    | 34                     | ISO-8859-1             | cloudflare-nginx       |    NA                  | US                     | CA                     | 1/04/1998 0:00         | 9/12/2016 0:00         | ...                    | 0                      |  0                     |    0                   |  0                     |  0                     |      0                 |    0                   |  0                     | 0                      | 0                      |\n",
       "| 1781 | B0_676                 | 249                    | 40                     | utf-8                  | Microsoft-IIS/8.5      | 24435                  | US                     | Wisconsin              | 14/11/2008 0:00        | 20/11/2013 0:00        | ...                    | 6                      | 11                     | 2314                   | 25                     | 28                     |   3039                 | 2776                   | 25                     | 6                      | 0                      |\n",
       "\n"
      ],
      "text/plain": [
       "     URL     URL_LENGTH NUMBER_SPECIAL_CHARACTERS CHARSET   \n",
       "1776 M4_45   194        17                        UTF-8     \n",
       "1777 M4_48   194        16                        UTF-8     \n",
       "1778 M4_41   198        17                        UTF-8     \n",
       "1779 B0_162  201        34                        utf-8     \n",
       "1780 B0_1152 234        34                        ISO-8859-1\n",
       "1781 B0_676  249        40                        utf-8     \n",
       "     SERVER                 CONTENT_LENGTH WHOIS_COUNTRY WHOIS_STATEPRO\n",
       "1776 Apache                    NA          ES            Barcelona     \n",
       "1777 Apache                    NA          ES            Barcelona     \n",
       "1778 Apache                    NA          ES            Barcelona     \n",
       "1779 Apache/2.2.16 (Debian)  8904          US            FL            \n",
       "1780 cloudflare-nginx          NA          US            CA            \n",
       "1781 Microsoft-IIS/8.5      24435          US            Wisconsin     \n",
       "     WHOIS_REGDATE   WHOIS_UPDATED_DATE ... DIST_REMOTE_TCP_PORT REMOTE_IPS\n",
       "1776 17/09/2008 0:00 2/09/2016 0:00     ... 0                     0        \n",
       "1777 17/09/2008 0:00 2/09/2016 0:00     ... 0                     0        \n",
       "1778 17/09/2008 0:00 2/09/2016 0:00     ... 0                     0        \n",
       "1779 15/02/1999 0:00 15/07/2015 0:00    ... 2                     6        \n",
       "1780 1/04/1998 0:00  9/12/2016 0:00     ... 0                     0        \n",
       "1781 14/11/2008 0:00 20/11/2013 0:00    ... 6                    11        \n",
       "     APP_BYTES SOURCE_APP_PACKETS REMOTE_APP_PACKETS SOURCE_APP_BYTES\n",
       "1776    0       0                  3                    186          \n",
       "1777    0       0                  3                    186          \n",
       "1778    0       0                  2                    124          \n",
       "1779 6631      87                 89                 132181          \n",
       "1780    0       0                  0                      0          \n",
       "1781 2314      25                 28                   3039          \n",
       "     REMOTE_APP_BYTES APP_PACKETS DNS_QUERY_TIMES Type\n",
       "1776    0              0          0               1   \n",
       "1777    0              0          0               1   \n",
       "1778    0              0          0               1   \n",
       "1779 6945             87          4               0   \n",
       "1780    0              0          0               0   \n",
       "1781 2776             25          6               0   "
      ]
     },
     "metadata": {},
     "output_type": "display_data"
    }
   ],
   "source": [
    "tail(train)\n"
   ]
  },
  {
   "cell_type": "code",
   "execution_count": 10,
   "metadata": {},
   "outputs": [
    {
     "data": {
      "text/html": [
       "<ol class=list-inline>\n",
       "\t<li>'URL'</li>\n",
       "\t<li>'URL_LENGTH'</li>\n",
       "\t<li>'NUMBER_SPECIAL_CHARACTERS'</li>\n",
       "\t<li>'CHARSET'</li>\n",
       "\t<li>'SERVER'</li>\n",
       "\t<li>'CONTENT_LENGTH'</li>\n",
       "\t<li>'WHOIS_COUNTRY'</li>\n",
       "\t<li>'WHOIS_STATEPRO'</li>\n",
       "\t<li>'WHOIS_REGDATE'</li>\n",
       "\t<li>'WHOIS_UPDATED_DATE'</li>\n",
       "\t<li>'TCP_CONVERSATION_EXCHANGE'</li>\n",
       "\t<li>'DIST_REMOTE_TCP_PORT'</li>\n",
       "\t<li>'REMOTE_IPS'</li>\n",
       "\t<li>'APP_BYTES'</li>\n",
       "\t<li>'SOURCE_APP_PACKETS'</li>\n",
       "\t<li>'REMOTE_APP_PACKETS'</li>\n",
       "\t<li>'SOURCE_APP_BYTES'</li>\n",
       "\t<li>'REMOTE_APP_BYTES'</li>\n",
       "\t<li>'APP_PACKETS'</li>\n",
       "\t<li>'DNS_QUERY_TIMES'</li>\n",
       "\t<li>'Type'</li>\n",
       "</ol>\n"
      ],
      "text/latex": [
       "\\begin{enumerate*}\n",
       "\\item 'URL'\n",
       "\\item 'URL\\_LENGTH'\n",
       "\\item 'NUMBER\\_SPECIAL\\_CHARACTERS'\n",
       "\\item 'CHARSET'\n",
       "\\item 'SERVER'\n",
       "\\item 'CONTENT\\_LENGTH'\n",
       "\\item 'WHOIS\\_COUNTRY'\n",
       "\\item 'WHOIS\\_STATEPRO'\n",
       "\\item 'WHOIS\\_REGDATE'\n",
       "\\item 'WHOIS\\_UPDATED\\_DATE'\n",
       "\\item 'TCP\\_CONVERSATION\\_EXCHANGE'\n",
       "\\item 'DIST\\_REMOTE\\_TCP\\_PORT'\n",
       "\\item 'REMOTE\\_IPS'\n",
       "\\item 'APP\\_BYTES'\n",
       "\\item 'SOURCE\\_APP\\_PACKETS'\n",
       "\\item 'REMOTE\\_APP\\_PACKETS'\n",
       "\\item 'SOURCE\\_APP\\_BYTES'\n",
       "\\item 'REMOTE\\_APP\\_BYTES'\n",
       "\\item 'APP\\_PACKETS'\n",
       "\\item 'DNS\\_QUERY\\_TIMES'\n",
       "\\item 'Type'\n",
       "\\end{enumerate*}\n"
      ],
      "text/markdown": [
       "1. 'URL'\n",
       "2. 'URL_LENGTH'\n",
       "3. 'NUMBER_SPECIAL_CHARACTERS'\n",
       "4. 'CHARSET'\n",
       "5. 'SERVER'\n",
       "6. 'CONTENT_LENGTH'\n",
       "7. 'WHOIS_COUNTRY'\n",
       "8. 'WHOIS_STATEPRO'\n",
       "9. 'WHOIS_REGDATE'\n",
       "10. 'WHOIS_UPDATED_DATE'\n",
       "11. 'TCP_CONVERSATION_EXCHANGE'\n",
       "12. 'DIST_REMOTE_TCP_PORT'\n",
       "13. 'REMOTE_IPS'\n",
       "14. 'APP_BYTES'\n",
       "15. 'SOURCE_APP_PACKETS'\n",
       "16. 'REMOTE_APP_PACKETS'\n",
       "17. 'SOURCE_APP_BYTES'\n",
       "18. 'REMOTE_APP_BYTES'\n",
       "19. 'APP_PACKETS'\n",
       "20. 'DNS_QUERY_TIMES'\n",
       "21. 'Type'\n",
       "\n",
       "\n"
      ],
      "text/plain": [
       " [1] \"URL\"                       \"URL_LENGTH\"               \n",
       " [3] \"NUMBER_SPECIAL_CHARACTERS\" \"CHARSET\"                  \n",
       " [5] \"SERVER\"                    \"CONTENT_LENGTH\"           \n",
       " [7] \"WHOIS_COUNTRY\"             \"WHOIS_STATEPRO\"           \n",
       " [9] \"WHOIS_REGDATE\"             \"WHOIS_UPDATED_DATE\"       \n",
       "[11] \"TCP_CONVERSATION_EXCHANGE\" \"DIST_REMOTE_TCP_PORT\"     \n",
       "[13] \"REMOTE_IPS\"                \"APP_BYTES\"                \n",
       "[15] \"SOURCE_APP_PACKETS\"        \"REMOTE_APP_PACKETS\"       \n",
       "[17] \"SOURCE_APP_BYTES\"          \"REMOTE_APP_BYTES\"         \n",
       "[19] \"APP_PACKETS\"               \"DNS_QUERY_TIMES\"          \n",
       "[21] \"Type\"                     "
      ]
     },
     "metadata": {},
     "output_type": "display_data"
    }
   ],
   "source": [
    "var_names = names(train)\n",
    "var_names"
   ]
  },
  {
   "cell_type": "code",
   "execution_count": 11,
   "metadata": {},
   "outputs": [
    {
     "data": {
      "text/html": [
       "<dl class=dl-horizontal>\n",
       "\t<dt>URL_LENGTH</dt>\n",
       "\t\t<dd>0</dd>\n",
       "\t<dt>NUMBER_SPECIAL_CHARACTERS</dt>\n",
       "\t\t<dd>0</dd>\n",
       "\t<dt>CONTENT_LENGTH</dt>\n",
       "\t\t<dd>812</dd>\n",
       "\t<dt>TCP_CONVERSATION_EXCHANGE</dt>\n",
       "\t\t<dd>0</dd>\n",
       "\t<dt>DIST_REMOTE_TCP_PORT</dt>\n",
       "\t\t<dd>0</dd>\n",
       "\t<dt>REMOTE_IPS</dt>\n",
       "\t\t<dd>0</dd>\n",
       "\t<dt>APP_BYTES</dt>\n",
       "\t\t<dd>0</dd>\n",
       "\t<dt>SOURCE_APP_PACKETS</dt>\n",
       "\t\t<dd>0</dd>\n",
       "\t<dt>REMOTE_APP_PACKETS</dt>\n",
       "\t\t<dd>0</dd>\n",
       "\t<dt>SOURCE_APP_BYTES</dt>\n",
       "\t\t<dd>0</dd>\n",
       "\t<dt>REMOTE_APP_BYTES</dt>\n",
       "\t\t<dd>0</dd>\n",
       "\t<dt>APP_PACKETS</dt>\n",
       "\t\t<dd>0</dd>\n",
       "\t<dt>DNS_QUERY_TIMES</dt>\n",
       "\t\t<dd>1</dd>\n",
       "\t<dt>Type</dt>\n",
       "\t\t<dd>0</dd>\n",
       "</dl>\n"
      ],
      "text/latex": [
       "\\begin{description*}\n",
       "\\item[URL\\textbackslash{}\\_LENGTH] 0\n",
       "\\item[NUMBER\\textbackslash{}\\_SPECIAL\\textbackslash{}\\_CHARACTERS] 0\n",
       "\\item[CONTENT\\textbackslash{}\\_LENGTH] 812\n",
       "\\item[TCP\\textbackslash{}\\_CONVERSATION\\textbackslash{}\\_EXCHANGE] 0\n",
       "\\item[DIST\\textbackslash{}\\_REMOTE\\textbackslash{}\\_TCP\\textbackslash{}\\_PORT] 0\n",
       "\\item[REMOTE\\textbackslash{}\\_IPS] 0\n",
       "\\item[APP\\textbackslash{}\\_BYTES] 0\n",
       "\\item[SOURCE\\textbackslash{}\\_APP\\textbackslash{}\\_PACKETS] 0\n",
       "\\item[REMOTE\\textbackslash{}\\_APP\\textbackslash{}\\_PACKETS] 0\n",
       "\\item[SOURCE\\textbackslash{}\\_APP\\textbackslash{}\\_BYTES] 0\n",
       "\\item[REMOTE\\textbackslash{}\\_APP\\textbackslash{}\\_BYTES] 0\n",
       "\\item[APP\\textbackslash{}\\_PACKETS] 0\n",
       "\\item[DNS\\textbackslash{}\\_QUERY\\textbackslash{}\\_TIMES] 1\n",
       "\\item[Type] 0\n",
       "\\end{description*}\n"
      ],
      "text/markdown": [
       "URL_LENGTH\n",
       ":   0NUMBER_SPECIAL_CHARACTERS\n",
       ":   0CONTENT_LENGTH\n",
       ":   812TCP_CONVERSATION_EXCHANGE\n",
       ":   0DIST_REMOTE_TCP_PORT\n",
       ":   0REMOTE_IPS\n",
       ":   0APP_BYTES\n",
       ":   0SOURCE_APP_PACKETS\n",
       ":   0REMOTE_APP_PACKETS\n",
       ":   0SOURCE_APP_BYTES\n",
       ":   0REMOTE_APP_BYTES\n",
       ":   0APP_PACKETS\n",
       ":   0DNS_QUERY_TIMES\n",
       ":   1Type\n",
       ":   0\n",
       "\n"
      ],
      "text/plain": [
       "               URL_LENGTH NUMBER_SPECIAL_CHARACTERS            CONTENT_LENGTH \n",
       "                        0                         0                       812 \n",
       "TCP_CONVERSATION_EXCHANGE      DIST_REMOTE_TCP_PORT                REMOTE_IPS \n",
       "                        0                         0                         0 \n",
       "                APP_BYTES        SOURCE_APP_PACKETS        REMOTE_APP_PACKETS \n",
       "                        0                         0                         0 \n",
       "         SOURCE_APP_BYTES          REMOTE_APP_BYTES               APP_PACKETS \n",
       "                        0                         0                         0 \n",
       "          DNS_QUERY_TIMES                      Type \n",
       "                        1                         0 "
      ]
     },
     "metadata": {},
     "output_type": "display_data"
    }
   ],
   "source": [
    "numeric_var = select_if(train, is.numeric)\n",
    "colSums(sapply(numeric_var, is.na))"
   ]
  },
  {
   "cell_type": "code",
   "execution_count": 12,
   "metadata": {},
   "outputs": [
    {
     "data": {
      "text/html": [
       "<dl class=dl-horizontal>\n",
       "\t<dt>URL</dt>\n",
       "\t\t<dd>0</dd>\n",
       "\t<dt>CHARSET</dt>\n",
       "\t\t<dd>0</dd>\n",
       "\t<dt>SERVER</dt>\n",
       "\t\t<dd>1</dd>\n",
       "\t<dt>WHOIS_COUNTRY</dt>\n",
       "\t\t<dd>0</dd>\n",
       "\t<dt>WHOIS_STATEPRO</dt>\n",
       "\t\t<dd>0</dd>\n",
       "\t<dt>WHOIS_REGDATE</dt>\n",
       "\t\t<dd>0</dd>\n",
       "\t<dt>WHOIS_UPDATED_DATE</dt>\n",
       "\t\t<dd>0</dd>\n",
       "</dl>\n"
      ],
      "text/latex": [
       "\\begin{description*}\n",
       "\\item[URL] 0\n",
       "\\item[CHARSET] 0\n",
       "\\item[SERVER] 1\n",
       "\\item[WHOIS\\textbackslash{}\\_COUNTRY] 0\n",
       "\\item[WHOIS\\textbackslash{}\\_STATEPRO] 0\n",
       "\\item[WHOIS\\textbackslash{}\\_REGDATE] 0\n",
       "\\item[WHOIS\\textbackslash{}\\_UPDATED\\textbackslash{}\\_DATE] 0\n",
       "\\end{description*}\n"
      ],
      "text/markdown": [
       "URL\n",
       ":   0CHARSET\n",
       ":   0SERVER\n",
       ":   1WHOIS_COUNTRY\n",
       ":   0WHOIS_STATEPRO\n",
       ":   0WHOIS_REGDATE\n",
       ":   0WHOIS_UPDATED_DATE\n",
       ":   0\n",
       "\n"
      ],
      "text/plain": [
       "               URL            CHARSET             SERVER      WHOIS_COUNTRY \n",
       "                 0                  0                  1                  0 \n",
       "    WHOIS_STATEPRO      WHOIS_REGDATE WHOIS_UPDATED_DATE \n",
       "                 0                  0                  0 "
      ]
     },
     "metadata": {},
     "output_type": "display_data"
    }
   ],
   "source": [
    "categorical_var = select_if(train, is.factor)\n",
    "colSums(sapply(categorical_var, is.na))"
   ]
  },
  {
   "cell_type": "code",
   "execution_count": 13,
   "metadata": {},
   "outputs": [
    {
     "data": {
      "text/plain": [
       "      URL             CHARSET                      SERVER    WHOIS_COUNTRY \n",
       " B0_1   :   1   UTF-8     :676   Apache               :386   US     :1103  \n",
       " B0_10  :   1   ISO-8859-1:427   nginx                :211   None   : 306  \n",
       " B0_100 :   1   utf-8     :379   None                 :175   CA     :  84  \n",
       " B0_1000:   1   us-ascii  :155   Microsoft-HTTPAPI/2.0:113   ES     :  63  \n",
       " B0_1001:   1   iso-8859-1:134   cloudflare-nginx     : 94   AU     :  35  \n",
       " B0_1002:   1   None      :  7   (Other)              :801   PA     :  21  \n",
       " (Other):1775   (Other)   :  3   NA's                 :  1   (Other): 169  \n",
       "   WHOIS_STATEPRO         WHOIS_REGDATE         WHOIS_UPDATED_DATE\n",
       " CA       :372    None           : 127   None            : 139    \n",
       " None     :362    17/09/2008 0:00:  62   2/09/2016 0:00  :  64    \n",
       " NY       : 75    13/01/2001 0:12:  59   12/12/2015 10:16:  59    \n",
       " WA       : 65    31/07/2000 0:00:  47   29/06/2016 0:00 :  47    \n",
       " Barcelona: 62    15/02/2005 0:00:  41   14/01/2017 0:00 :  42    \n",
       " FL       : 61    29/03/1997 0:00:  33   29/11/2016 0:00 :  36    \n",
       " (Other)  :784    (Other)        :1412   (Other)         :1394    "
      ]
     },
     "metadata": {},
     "output_type": "display_data"
    }
   ],
   "source": [
    "summary(categorical_var)\n"
   ]
  },
  {
   "cell_type": "code",
   "execution_count": 14,
   "metadata": {},
   "outputs": [
    {
     "data": {
      "text/plain": [
       "   URL_LENGTH     NUMBER_SPECIAL_CHARACTERS CONTENT_LENGTH  \n",
       " Min.   : 16.00   Min.   : 5.00             Min.   :     0  \n",
       " 1st Qu.: 39.00   1st Qu.: 8.00             1st Qu.:   324  \n",
       " Median : 49.00   Median :10.00             Median :  1853  \n",
       " Mean   : 56.96   Mean   :11.11             Mean   : 11727  \n",
       " 3rd Qu.: 68.00   3rd Qu.:13.00             3rd Qu.: 11323  \n",
       " Max.   :249.00   Max.   :43.00             Max.   :649263  \n",
       "                                            NA's   :812     \n",
       " TCP_CONVERSATION_EXCHANGE DIST_REMOTE_TCP_PORT   REMOTE_IPS    \n",
       " Min.   :   0.00           Min.   :  0.000      Min.   : 0.000  \n",
       " 1st Qu.:   0.00           1st Qu.:  0.000      1st Qu.: 0.000  \n",
       " Median :   7.00           Median :  0.000      Median : 2.000  \n",
       " Mean   :  16.26           Mean   :  5.473      Mean   : 3.061  \n",
       " 3rd Qu.:  22.00           3rd Qu.:  5.000      3rd Qu.: 5.000  \n",
       " Max.   :1194.00           Max.   :708.000      Max.   :17.000  \n",
       "                                                                \n",
       "   APP_BYTES       SOURCE_APP_PACKETS REMOTE_APP_PACKETS SOURCE_APP_BYTES \n",
       " Min.   :      0   Min.   :   0.00    Min.   :   0.00    Min.   :      0  \n",
       " 1st Qu.:      0   1st Qu.:   0.00    1st Qu.:   0.00    1st Qu.:      0  \n",
       " Median :    672   Median :   8.00    Median :   9.00    Median :    579  \n",
       " Mean   :   2982   Mean   :  18.54    Mean   :  18.75    Mean   :  15892  \n",
       " 3rd Qu.:   2328   3rd Qu.:  26.00    3rd Qu.:  25.00    3rd Qu.:   9806  \n",
       " Max.   :2362906   Max.   :1198.00    Max.   :1284.00    Max.   :2060012  \n",
       "                                                                          \n",
       " REMOTE_APP_BYTES   APP_PACKETS      DNS_QUERY_TIMES       Type       \n",
       " Min.   :      0   Min.   :   0.00   Min.   : 0.000   Min.   :0.0000  \n",
       " 1st Qu.:      0   1st Qu.:   0.00   1st Qu.: 0.000   1st Qu.:0.0000  \n",
       " Median :    735   Median :   8.00   Median : 0.000   Median :0.0000  \n",
       " Mean   :   3156   Mean   :  18.54   Mean   : 2.263   Mean   :0.1213  \n",
       " 3rd Qu.:   2701   3rd Qu.:  26.00   3rd Qu.: 4.000   3rd Qu.:0.0000  \n",
       " Max.   :2362906   Max.   :1198.00   Max.   :20.000   Max.   :1.0000  \n",
       "                                     NA's   :1                        "
      ]
     },
     "metadata": {},
     "output_type": "display_data"
    }
   ],
   "source": [
    "summary(numeric_var)\n"
   ]
  },
  {
   "cell_type": "code",
   "execution_count": 15,
   "metadata": {},
   "outputs": [
    {
     "data": {
      "text/plain": [
       "\n",
       "   0    1 \n",
       "1565  216 "
      ]
     },
     "metadata": {},
     "output_type": "display_data"
    }
   ],
   "source": [
    "table(train$Type)"
   ]
  },
  {
   "cell_type": "code",
   "execution_count": 16,
   "metadata": {},
   "outputs": [
    {
     "data": {
      "text/html": [
       "<ol class=list-inline>\n",
       "\t<li>'URL'</li>\n",
       "\t<li>'CHARSET'</li>\n",
       "\t<li>'SERVER'</li>\n",
       "\t<li>'WHOIS_COUNTRY'</li>\n",
       "\t<li>'WHOIS_STATEPRO'</li>\n",
       "\t<li>'WHOIS_REGDATE'</li>\n",
       "\t<li>'WHOIS_UPDATED_DATE'</li>\n",
       "</ol>\n"
      ],
      "text/latex": [
       "\\begin{enumerate*}\n",
       "\\item 'URL'\n",
       "\\item 'CHARSET'\n",
       "\\item 'SERVER'\n",
       "\\item 'WHOIS\\_COUNTRY'\n",
       "\\item 'WHOIS\\_STATEPRO'\n",
       "\\item 'WHOIS\\_REGDATE'\n",
       "\\item 'WHOIS\\_UPDATED\\_DATE'\n",
       "\\end{enumerate*}\n"
      ],
      "text/markdown": [
       "1. 'URL'\n",
       "2. 'CHARSET'\n",
       "3. 'SERVER'\n",
       "4. 'WHOIS_COUNTRY'\n",
       "5. 'WHOIS_STATEPRO'\n",
       "6. 'WHOIS_REGDATE'\n",
       "7. 'WHOIS_UPDATED_DATE'\n",
       "\n",
       "\n"
      ],
      "text/plain": [
       "[1] \"URL\"                \"CHARSET\"            \"SERVER\"            \n",
       "[4] \"WHOIS_COUNTRY\"      \"WHOIS_STATEPRO\"     \"WHOIS_REGDATE\"     \n",
       "[7] \"WHOIS_UPDATED_DATE\""
      ]
     },
     "metadata": {},
     "output_type": "display_data"
    }
   ],
   "source": [
    "cat_var_names = names(categorical_var)\n",
    "cat_var_names"
   ]
  },
  {
   "cell_type": "code",
   "execution_count": 17,
   "metadata": {},
   "outputs": [
    {
     "data": {
      "text/plain": [
       "    CHARSET\n",
       "Type ISO-8859 iso-8859-1 ISO-8859-1 None us-ascii utf-8 UTF-8 windows-1251\n",
       "   0        1        121        382    6      151   359   544            0\n",
       "   1        0         13         45    1        4    20   132            1\n",
       "    CHARSET\n",
       "Type windows-1252\n",
       "   0            1\n",
       "   1            0"
      ]
     },
     "metadata": {},
     "output_type": "display_data"
    }
   ],
   "source": [
    "with(train, table(Type, CHARSET))\n"
   ]
  },
  {
   "cell_type": "code",
   "execution_count": 18,
   "metadata": {},
   "outputs": [
    {
     "data": {
      "text/plain": [
       "    WHOIS_COUNTRY\n",
       "Type [u'GB'; u'UK']   AE   AT   AU   BE   BR   BS   BY   CA   CH   CN Cyprus\n",
       "   0              5    1    4   35    3    0    4    1   82    6    7      2\n",
       "   1              0    0    0    0    0    2    0    0    2    0    3      0\n",
       "    WHOIS_COUNTRY\n",
       "Type   CZ   DE   ES   FR   GB   HK   IE   IL   IN   IT   JP   KG   KR   KY   LU\n",
       "   0    1    2    1    8   15    3    1    2    9    1   11    2    3    3    1\n",
       "   1    8    1   62    1    4    0    0    0    1    0    0    0    2    0    0\n",
       "    WHOIS_COUNTRY\n",
       "Type   LV   NL   NO None   PA   PH   PK   ru   RU   SC   se   SE   SI   TH   TR\n",
       "   0    1    6    2  241   19    4    0    0    0    3    1    3    2    1    3\n",
       "   1    0    0    0   65    2    0    1    4    2    0    0    0    0    0    0\n",
       "    WHOIS_COUNTRY\n",
       "Type   UA   UG   UK United Kingdom   us   US   UY\n",
       "   0    0    0    9              1    2 1054    0\n",
       "   1    2    1    1              0    1   49    2"
      ]
     },
     "metadata": {},
     "output_type": "display_data"
    }
   ],
   "source": [
    "with(train, table(Type, WHOIS_COUNTRY))\n"
   ]
  },
  {
   "cell_type": "code",
   "execution_count": 19,
   "metadata": {},
   "outputs": [
    {
     "data": {
      "image/png": "[encoded data removed]",
      "text/plain": [
       "plot without title"
      ]
     },
     "metadata": {},
     "output_type": "display_data"
    }
   ],
   "source": [
    "#PLOTTING THE TARGET FEATURE\n",
    "library(repr)\n",
    "options(repr.plot.width=5, repr.plot.height=5)\n",
    "ggplot(train, aes(x = Type)) + geom_bar(color='blue',fill = \"#1dde91\")"
   ]
  },
  {
   "cell_type": "code",
   "execution_count": 20,
   "metadata": {},
   "outputs": [
    {
     "data": {
      "image/png": "[encoded data removed]",
      "text/plain": [
       "plot without title"
      ]
     },
     "metadata": {},
     "output_type": "display_data"
    }
   ],
   "source": [
    "# PLOT TARGET FEATURES WITH NUMERIC FEATURES\n",
    "#plots a histogram for url_length and count of these found\n",
    "ggplot(train, aes(x = URL_LENGTH)) + geom_histogram(binwidth = 5, fill = \"#0571f5\")+ scale_fill_hue(l=40, c=35)"
   ]
  },
  {
   "cell_type": "code",
   "execution_count": 21,
   "metadata": {},
   "outputs": [
    {
     "data": {
      "image/png": "[encoded data removed]",
      "text/plain": [
       "plot without title"
      ]
     },
     "metadata": {},
     "output_type": "display_data"
    }
   ],
   "source": [
    "ggplot(train, aes(x = CHARSET, fill = Type)) + geom_bar(position = \"fill\") + \n",
    "theme(axis.text.x = element_text(angle = 60, hjust = 1))+\n",
    "scale_fill_gradient(low=\"skyblue\", high=\"blue\")"
   ]
  },
  {
   "cell_type": "code",
   "execution_count": 22,
   "metadata": {},
   "outputs": [
    {
     "data": {
      "image/png": "[encoded data removed]",
      "text/plain": [
       "plot without title"
      ]
     },
     "metadata": {},
     "output_type": "display_data"
    }
   ],
   "source": [
    "options(repr.plot.width=7, repr.plot.height=4)\n",
    "ggplot(train, aes(x = WHOIS_COUNTRY, fill = Type)) + geom_bar(position = \"fill\") +\n",
    "theme(axis.text.x = element_text(angle = 90, hjust = 1))+\n",
    "scale_fill_gradient(low=\"blue\", high=\"red\")"
   ]
  },
  {
   "cell_type": "code",
   "execution_count": 23,
   "metadata": {},
   "outputs": [
    {
     "data": {
      "image/png": "[encoded data removed]",
      "text/plain": [
       "plot without title"
      ]
     },
     "metadata": {},
     "output_type": "display_data"
    }
   ],
   "source": [
    "ggplot(train, aes(x = NUMBER_SPECIAL_CHARACTERS)) + geom_histogram(binwidth = 0.5, fill = \"gold\")+ scale_fill_hue(l=40, c=35)"
   ]
  },
  {
   "cell_type": "code",
   "execution_count": 24,
   "metadata": {},
   "outputs": [
    {
     "name": "stderr",
     "output_type": "stream",
     "text": [
      "Warning message:\n",
      "\"package 'purrr' was built under R version 3.6.3\"Warning message:\n",
      "\"package 'tidyr' was built under R version 3.6.3\""
     ]
    }
   ],
   "source": [
    "library(purrr)\n",
    "library(tidyr)"
   ]
  },
  {
   "cell_type": "code",
   "execution_count": 25,
   "metadata": {},
   "outputs": [
    {
     "name": "stderr",
     "output_type": "stream",
     "text": [
      "`stat_bin()` using `bins = 30`. Pick better value with `binwidth`.\n",
      "Warning message:\n",
      "\"Removed 813 rows containing non-finite values (stat_bin).\""
     ]
    },
    {
     "data": {
      "image/png": "[encoded data removed]",
      "text/plain": [
       "plot without title"
      ]
     },
     "metadata": {},
     "output_type": "display_data"
    }
   ],
   "source": [
    "train %>%\n",
    "  keep(is.numeric) %>% \n",
    "  gather() %>% \n",
    "  ggplot(aes(value)) +\n",
    "    facet_wrap(~ key, scales = \"free\") +\n",
    "    geom_histogram()"
   ]
  },
  {
   "cell_type": "code",
   "execution_count": 26,
   "metadata": {},
   "outputs": [
    {
     "name": "stderr",
     "output_type": "stream",
     "text": [
      "Warning message:\n",
      "\"Removed 813 rows containing non-finite values (stat_density).\""
     ]
    },
    {
     "data": {
      "image/png": "[encoded data removed]",
      "text/plain": [
       "plot without title"
      ]
     },
     "metadata": {},
     "output_type": "display_data"
    }
   ],
   "source": [
    "train %>%\n",
    "  keep(is.numeric) %>%                     # Keep only numeric columns\n",
    "  gather() %>%                             # Convert to key-value pairs\n",
    "  ggplot(aes(value)) +                     # Plot the values\n",
    "    facet_wrap(~ key, scales = \"free\") +   # In separate panels\n",
    "    geom_density()  "
   ]
  },
  {
   "cell_type": "code",
   "execution_count": 27,
   "metadata": {},
   "outputs": [
    {
     "data": {
      "image/png": "[encoded data removed]",
      "text/plain": [
       "plot without title"
      ]
     },
     "metadata": {},
     "output_type": "display_data"
    }
   ],
   "source": [
    "#PLOTTING THE NUMERIC AND CAGEORICAL FEATURES\n",
    "ggplot(train, aes(x=Type,y=URL_LENGTH)) + geom_point()"
   ]
  },
  {
   "cell_type": "code",
   "execution_count": 28,
   "metadata": {},
   "outputs": [
    {
     "data": {
      "image/png": "[encoded data removed]",
      "text/plain": [
       "plot without title"
      ]
     },
     "metadata": {},
     "output_type": "display_data"
    }
   ],
   "source": [
    "ggplot(train, aes(x=REMOTE_IPS,y=URL_LENGTH)) + geom_point(fill='red')"
   ]
  },
  {
   "cell_type": "code",
   "execution_count": 29,
   "metadata": {},
   "outputs": [
    {
     "data": {
      "image/png": "[encoded data removed]",
      "text/plain": [
       "plot without title"
      ]
     },
     "metadata": {},
     "output_type": "display_data"
    }
   ],
   "source": [
    "ggplot(train, aes(x=log(REMOTE_APP_BYTES),y=REMOTE_APP_PACKETS)) + geom_point(color='blue')+ facet_wrap(~Type)"
   ]
  },
  {
   "cell_type": "code",
   "execution_count": 30,
   "metadata": {},
   "outputs": [
    {
     "data": {
      "image/png": "[encoded data removed]",
      "text/plain": [
       "plot without title"
      ]
     },
     "metadata": {},
     "output_type": "display_data"
    }
   ],
   "source": [
    "ggplot(train, aes(x=log(SOURCE_APP_BYTES),y=SOURCE_APP_PACKETS)) + geom_point(color='gold')+ facet_wrap(~Type)"
   ]
  },
  {
   "cell_type": "code",
   "execution_count": 31,
   "metadata": {},
   "outputs": [
    {
     "data": {
      "image/png": "[encoded data removed]",
      "text/plain": [
       "plot without title"
      ]
     },
     "metadata": {},
     "output_type": "display_data"
    }
   ],
   "source": [
    "ggplot(train, aes(x=log(DIST_REMOTE_TCP_PORT),y=REMOTE_IPS)) + geom_point(color='red')+ facet_wrap(~Type)"
   ]
  },
  {
   "cell_type": "code",
   "execution_count": 32,
   "metadata": {},
   "outputs": [
    {
     "name": "stderr",
     "output_type": "stream",
     "text": [
      "corrplot 0.84 loaded\n"
     ]
    },
    {
     "data": {
      "image/png": "[encoded data removed]",
      "text/plain": [
       "Plot with title \"\""
      ]
     },
     "metadata": {},
     "output_type": "display_data"
    }
   ],
   "source": [
    "#CORRELOGRAM PLOT FOR NUMERIC FEATURES.\n",
    "library(corrplot)\n",
    "options(repr.plot.width=7, repr.plot.height=7)\n",
    "numeric_var1 <- subset(numeric_var, select = -c(CONTENT_LENGTH, DNS_QUERY_TIMES))\n",
    "library(corrplot)\n",
    "M <- cor(numeric_var1)\n",
    "corrplot(M, method = \"circle\")"
   ]
  },
  {
   "cell_type": "code",
   "execution_count": 33,
   "metadata": {},
   "outputs": [],
   "source": [
    "options(repr.plot.width=5, repr.plot.height=5)\n"
   ]
  },
  {
   "cell_type": "code",
   "execution_count": 34,
   "metadata": {},
   "outputs": [
    {
     "data": {
      "text/html": [
       "<table>\n",
       "<thead><tr><th></th><th scope=col>URL</th><th scope=col>URL_LENGTH</th><th scope=col>NUMBER_SPECIAL_CHARACTERS</th><th scope=col>CHARSET</th><th scope=col>SERVER</th><th scope=col>CONTENT_LENGTH</th><th scope=col>WHOIS_COUNTRY</th><th scope=col>WHOIS_STATEPRO</th><th scope=col>WHOIS_REGDATE</th><th scope=col>WHOIS_UPDATED_DATE</th><th scope=col>...</th><th scope=col>DIST_REMOTE_TCP_PORT</th><th scope=col>REMOTE_IPS</th><th scope=col>APP_BYTES</th><th scope=col>SOURCE_APP_PACKETS</th><th scope=col>REMOTE_APP_PACKETS</th><th scope=col>SOURCE_APP_BYTES</th><th scope=col>REMOTE_APP_BYTES</th><th scope=col>APP_PACKETS</th><th scope=col>DNS_QUERY_TIMES</th><th scope=col>Type</th></tr></thead>\n",
       "<tbody>\n",
       "\t<tr><th scope=row>6</th><td>B0_2064           </td><td>18                </td><td>7                 </td><td>UTF-8             </td><td>nginx             </td><td>NA                </td><td>SC                </td><td>Mahe              </td><td>3/08/2016 14:30   </td><td>3/10/2016 3:45    </td><td>...               </td><td> 6                </td><td>9                 </td><td> 894              </td><td>11                </td><td>13                </td><td>  838             </td><td> 894              </td><td>11                </td><td>0                 </td><td>0                 </td></tr>\n",
       "\t<tr><th scope=row>9</th><td>M2_17             </td><td>20                </td><td>5                 </td><td>utf-8             </td><td>nginx/1.10.1      </td><td>NA                </td><td>None              </td><td>None              </td><td>8/11/2014 7:41    </td><td>None              </td><td>...               </td><td> 0                </td><td>0                 </td><td>   0              </td><td> 2                </td><td> 3                </td><td>  213             </td><td> 146              </td><td> 2                </td><td>2                 </td><td>1                 </td></tr>\n",
       "\t<tr><th scope=row>10</th><td>M3_75             </td><td>20                </td><td>5                 </td><td>utf-8             </td><td>nginx/1.10.1      </td><td>NA                </td><td>None              </td><td>None              </td><td>8/11/2014 7:41    </td><td>None              </td><td>...               </td><td> 0                </td><td>0                 </td><td>   0              </td><td> 2                </td><td> 1                </td><td>   62             </td><td> 146              </td><td> 2                </td><td>2                 </td><td>1                 </td></tr>\n",
       "\t<tr><th scope=row>11</th><td>B0_1013           </td><td>20                </td><td>6                 </td><td>utf-8             </td><td>Apache            </td><td>NA                </td><td>US                </td><td>Kansas            </td><td>14/09/2007 0:00   </td><td>9/09/2015 0:00    </td><td>...               </td><td> 0                </td><td>0                 </td><td>   0              </td><td> 0                </td><td> 0                </td><td>    0             </td><td>   0              </td><td> 0                </td><td>0                 </td><td>0                 </td></tr>\n",
       "\t<tr><th scope=row>21</th><td>B0_161            </td><td>22                </td><td>6                 </td><td>utf-8             </td><td>openresty/1.11.2.1</td><td>NA                </td><td>US                </td><td>CA                </td><td>3/07/1999 0:00    </td><td>7/08/2015 0:00    </td><td>...               </td><td>29                </td><td>6                 </td><td>3833              </td><td>43                </td><td>42                </td><td>22495             </td><td>4125              </td><td>43                </td><td>4                 </td><td>0                 </td></tr>\n",
       "\t<tr><th scope=row>25</th><td>B0_601            </td><td>22                </td><td>6                 </td><td>UTF-8             </td><td>nginx/1.12.0      </td><td>NA                </td><td>US                </td><td>FL                </td><td>1/08/2002 0:00    </td><td>22/03/2016 0:00   </td><td>...               </td><td> 0                </td><td>3                 </td><td> 650              </td><td>10                </td><td>10                </td><td> 1417             </td><td> 950              </td><td>10                </td><td>4                 </td><td>0                 </td></tr>\n",
       "</tbody>\n",
       "</table>\n"
      ],
      "text/latex": [
       "\\begin{tabular}{r|lllllllllllllllllllll}\n",
       "  & URL & URL\\_LENGTH & NUMBER\\_SPECIAL\\_CHARACTERS & CHARSET & SERVER & CONTENT\\_LENGTH & WHOIS\\_COUNTRY & WHOIS\\_STATEPRO & WHOIS\\_REGDATE & WHOIS\\_UPDATED\\_DATE & ... & DIST\\_REMOTE\\_TCP\\_PORT & REMOTE\\_IPS & APP\\_BYTES & SOURCE\\_APP\\_PACKETS & REMOTE\\_APP\\_PACKETS & SOURCE\\_APP\\_BYTES & REMOTE\\_APP\\_BYTES & APP\\_PACKETS & DNS\\_QUERY\\_TIMES & Type\\\\\n",
       "\\hline\n",
       "\t6 & B0\\_2064          & 18                 & 7                  & UTF-8              & nginx              & NA                 & SC                 & Mahe               & 3/08/2016 14:30    & 3/10/2016 3:45     & ...                &  6                 & 9                  &  894               & 11                 & 13                 &   838              &  894               & 11                 & 0                  & 0                 \\\\\n",
       "\t9 & M2\\_17            & 20                 & 5                  & utf-8              & nginx/1.10.1       & NA                 & None               & None               & 8/11/2014 7:41     & None               & ...                &  0                 & 0                  &    0               &  2                 &  3                 &   213              &  146               &  2                 & 2                  & 1                 \\\\\n",
       "\t10 & M3\\_75            & 20                 & 5                  & utf-8              & nginx/1.10.1       & NA                 & None               & None               & 8/11/2014 7:41     & None               & ...                &  0                 & 0                  &    0               &  2                 &  1                 &    62              &  146               &  2                 & 2                  & 1                 \\\\\n",
       "\t11 & B0\\_1013          & 20                 & 6                  & utf-8              & Apache             & NA                 & US                 & Kansas             & 14/09/2007 0:00    & 9/09/2015 0:00     & ...                &  0                 & 0                  &    0               &  0                 &  0                 &     0              &    0               &  0                 & 0                  & 0                 \\\\\n",
       "\t21 & B0\\_161           & 22                 & 6                  & utf-8              & openresty/1.11.2.1 & NA                 & US                 & CA                 & 3/07/1999 0:00     & 7/08/2015 0:00     & ...                & 29                 & 6                  & 3833               & 43                 & 42                 & 22495              & 4125               & 43                 & 4                  & 0                 \\\\\n",
       "\t25 & B0\\_601           & 22                 & 6                  & UTF-8              & nginx/1.12.0       & NA                 & US                 & FL                 & 1/08/2002 0:00     & 22/03/2016 0:00    & ...                &  0                 & 3                  &  650               & 10                 & 10                 &  1417              &  950               & 10                 & 4                  & 0                 \\\\\n",
       "\\end{tabular}\n"
      ],
      "text/markdown": [
       "\n",
       "| <!--/--> | URL | URL_LENGTH | NUMBER_SPECIAL_CHARACTERS | CHARSET | SERVER | CONTENT_LENGTH | WHOIS_COUNTRY | WHOIS_STATEPRO | WHOIS_REGDATE | WHOIS_UPDATED_DATE | ... | DIST_REMOTE_TCP_PORT | REMOTE_IPS | APP_BYTES | SOURCE_APP_PACKETS | REMOTE_APP_PACKETS | SOURCE_APP_BYTES | REMOTE_APP_BYTES | APP_PACKETS | DNS_QUERY_TIMES | Type |\n",
       "|---|---|---|---|---|---|---|---|---|---|---|---|---|---|---|---|---|---|---|---|---|---|\n",
       "| 6 | B0_2064            | 18                 | 7                  | UTF-8              | nginx              | NA                 | SC                 | Mahe               | 3/08/2016 14:30    | 3/10/2016 3:45     | ...                |  6                 | 9                  |  894               | 11                 | 13                 |   838              |  894               | 11                 | 0                  | 0                  |\n",
       "| 9 | M2_17              | 20                 | 5                  | utf-8              | nginx/1.10.1       | NA                 | None               | None               | 8/11/2014 7:41     | None               | ...                |  0                 | 0                  |    0               |  2                 |  3                 |   213              |  146               |  2                 | 2                  | 1                  |\n",
       "| 10 | M3_75              | 20                 | 5                  | utf-8              | nginx/1.10.1       | NA                 | None               | None               | 8/11/2014 7:41     | None               | ...                |  0                 | 0                  |    0               |  2                 |  1                 |    62              |  146               |  2                 | 2                  | 1                  |\n",
       "| 11 | B0_1013            | 20                 | 6                  | utf-8              | Apache             | NA                 | US                 | Kansas             | 14/09/2007 0:00    | 9/09/2015 0:00     | ...                |  0                 | 0                  |    0               |  0                 |  0                 |     0              |    0               |  0                 | 0                  | 0                  |\n",
       "| 21 | B0_161             | 22                 | 6                  | utf-8              | openresty/1.11.2.1 | NA                 | US                 | CA                 | 3/07/1999 0:00     | 7/08/2015 0:00     | ...                | 29                 | 6                  | 3833               | 43                 | 42                 | 22495              | 4125               | 43                 | 4                  | 0                  |\n",
       "| 25 | B0_601             | 22                 | 6                  | UTF-8              | nginx/1.12.0       | NA                 | US                 | FL                 | 1/08/2002 0:00     | 22/03/2016 0:00    | ...                |  0                 | 3                  |  650               | 10                 | 10                 |  1417              |  950               | 10                 | 4                  | 0                  |\n",
       "\n"
      ],
      "text/plain": [
       "   URL     URL_LENGTH NUMBER_SPECIAL_CHARACTERS CHARSET SERVER            \n",
       "6  B0_2064 18         7                         UTF-8   nginx             \n",
       "9  M2_17   20         5                         utf-8   nginx/1.10.1      \n",
       "10 M3_75   20         5                         utf-8   nginx/1.10.1      \n",
       "11 B0_1013 20         6                         utf-8   Apache            \n",
       "21 B0_161  22         6                         utf-8   openresty/1.11.2.1\n",
       "25 B0_601  22         6                         UTF-8   nginx/1.12.0      \n",
       "   CONTENT_LENGTH WHOIS_COUNTRY WHOIS_STATEPRO WHOIS_REGDATE  \n",
       "6  NA             SC            Mahe           3/08/2016 14:30\n",
       "9  NA             None          None           8/11/2014 7:41 \n",
       "10 NA             None          None           8/11/2014 7:41 \n",
       "11 NA             US            Kansas         14/09/2007 0:00\n",
       "21 NA             US            CA             3/07/1999 0:00 \n",
       "25 NA             US            FL             1/08/2002 0:00 \n",
       "   WHOIS_UPDATED_DATE ... DIST_REMOTE_TCP_PORT REMOTE_IPS APP_BYTES\n",
       "6  3/10/2016 3:45     ...  6                   9           894     \n",
       "9  None               ...  0                   0             0     \n",
       "10 None               ...  0                   0             0     \n",
       "11 9/09/2015 0:00     ...  0                   0             0     \n",
       "21 7/08/2015 0:00     ... 29                   6          3833     \n",
       "25 22/03/2016 0:00    ...  0                   3           650     \n",
       "   SOURCE_APP_PACKETS REMOTE_APP_PACKETS SOURCE_APP_BYTES REMOTE_APP_BYTES\n",
       "6  11                 13                   838             894            \n",
       "9   2                  3                   213             146            \n",
       "10  2                  1                    62             146            \n",
       "11  0                  0                     0               0            \n",
       "21 43                 42                 22495            4125            \n",
       "25 10                 10                  1417             950            \n",
       "   APP_PACKETS DNS_QUERY_TIMES Type\n",
       "6  11          0               0   \n",
       "9   2          2               1   \n",
       "10  2          2               1   \n",
       "11  0          0               0   \n",
       "21 43          4               0   \n",
       "25 10          4               0   "
      ]
     },
     "metadata": {},
     "output_type": "display_data"
    }
   ],
   "source": [
    "missing_row = train[!complete.cases(train),]\n",
    "head(missing_row)\n"
   ]
  },
  {
   "cell_type": "code",
   "execution_count": 35,
   "metadata": {},
   "outputs": [
    {
     "data": {
      "text/html": [
       "814"
      ],
      "text/latex": [
       "814"
      ],
      "text/markdown": [
       "814"
      ],
      "text/plain": [
       "[1] 814"
      ]
     },
     "metadata": {},
     "output_type": "display_data"
    }
   ],
   "source": [
    "nrow(missing_row)\n"
   ]
  },
  {
   "cell_type": "code",
   "execution_count": 36,
   "metadata": {},
   "outputs": [
    {
     "data": {
      "text/html": [
       "0.021764123953905"
      ],
      "text/latex": [
       "0.021764123953905"
      ],
      "text/markdown": [
       "0.021764123953905"
      ],
      "text/plain": [
       "[1] 0.02176412"
      ]
     },
     "metadata": {},
     "output_type": "display_data"
    }
   ],
   "source": [
    "sum(is.na(train))/(nrow(train)*ncol(train))\n"
   ]
  },
  {
   "cell_type": "code",
   "execution_count": 37,
   "metadata": {},
   "outputs": [
    {
     "data": {
      "text/html": [
       "<dl class=dl-horizontal>\n",
       "\t<dt>URL</dt>\n",
       "\t\t<dd>0</dd>\n",
       "\t<dt>URL_LENGTH</dt>\n",
       "\t\t<dd>0</dd>\n",
       "\t<dt>NUMBER_SPECIAL_CHARACTERS</dt>\n",
       "\t\t<dd>0</dd>\n",
       "\t<dt>CHARSET</dt>\n",
       "\t\t<dd>0</dd>\n",
       "\t<dt>SERVER</dt>\n",
       "\t\t<dd>0.0561482313307131</dd>\n",
       "\t<dt>CONTENT_LENGTH</dt>\n",
       "\t\t<dd>45.592363840539</dd>\n",
       "\t<dt>WHOIS_COUNTRY</dt>\n",
       "\t\t<dd>0</dd>\n",
       "\t<dt>WHOIS_STATEPRO</dt>\n",
       "\t\t<dd>0</dd>\n",
       "\t<dt>WHOIS_REGDATE</dt>\n",
       "\t\t<dd>0</dd>\n",
       "\t<dt>WHOIS_UPDATED_DATE</dt>\n",
       "\t\t<dd>0</dd>\n",
       "\t<dt>TCP_CONVERSATION_EXCHANGE</dt>\n",
       "\t\t<dd>0</dd>\n",
       "\t<dt>DIST_REMOTE_TCP_PORT</dt>\n",
       "\t\t<dd>0</dd>\n",
       "\t<dt>REMOTE_IPS</dt>\n",
       "\t\t<dd>0</dd>\n",
       "\t<dt>APP_BYTES</dt>\n",
       "\t\t<dd>0</dd>\n",
       "\t<dt>SOURCE_APP_PACKETS</dt>\n",
       "\t\t<dd>0</dd>\n",
       "\t<dt>REMOTE_APP_PACKETS</dt>\n",
       "\t\t<dd>0</dd>\n",
       "\t<dt>SOURCE_APP_BYTES</dt>\n",
       "\t\t<dd>0</dd>\n",
       "\t<dt>REMOTE_APP_BYTES</dt>\n",
       "\t\t<dd>0</dd>\n",
       "\t<dt>APP_PACKETS</dt>\n",
       "\t\t<dd>0</dd>\n",
       "\t<dt>DNS_QUERY_TIMES</dt>\n",
       "\t\t<dd>0.0561482313307131</dd>\n",
       "\t<dt>Type</dt>\n",
       "\t\t<dd>0</dd>\n",
       "</dl>\n"
      ],
      "text/latex": [
       "\\begin{description*}\n",
       "\\item[URL] 0\n",
       "\\item[URL\\textbackslash{}\\_LENGTH] 0\n",
       "\\item[NUMBER\\textbackslash{}\\_SPECIAL\\textbackslash{}\\_CHARACTERS] 0\n",
       "\\item[CHARSET] 0\n",
       "\\item[SERVER] 0.0561482313307131\n",
       "\\item[CONTENT\\textbackslash{}\\_LENGTH] 45.592363840539\n",
       "\\item[WHOIS\\textbackslash{}\\_COUNTRY] 0\n",
       "\\item[WHOIS\\textbackslash{}\\_STATEPRO] 0\n",
       "\\item[WHOIS\\textbackslash{}\\_REGDATE] 0\n",
       "\\item[WHOIS\\textbackslash{}\\_UPDATED\\textbackslash{}\\_DATE] 0\n",
       "\\item[TCP\\textbackslash{}\\_CONVERSATION\\textbackslash{}\\_EXCHANGE] 0\n",
       "\\item[DIST\\textbackslash{}\\_REMOTE\\textbackslash{}\\_TCP\\textbackslash{}\\_PORT] 0\n",
       "\\item[REMOTE\\textbackslash{}\\_IPS] 0\n",
       "\\item[APP\\textbackslash{}\\_BYTES] 0\n",
       "\\item[SOURCE\\textbackslash{}\\_APP\\textbackslash{}\\_PACKETS] 0\n",
       "\\item[REMOTE\\textbackslash{}\\_APP\\textbackslash{}\\_PACKETS] 0\n",
       "\\item[SOURCE\\textbackslash{}\\_APP\\textbackslash{}\\_BYTES] 0\n",
       "\\item[REMOTE\\textbackslash{}\\_APP\\textbackslash{}\\_BYTES] 0\n",
       "\\item[APP\\textbackslash{}\\_PACKETS] 0\n",
       "\\item[DNS\\textbackslash{}\\_QUERY\\textbackslash{}\\_TIMES] 0.0561482313307131\n",
       "\\item[Type] 0\n",
       "\\end{description*}\n"
      ],
      "text/markdown": [
       "URL\n",
       ":   0URL_LENGTH\n",
       ":   0NUMBER_SPECIAL_CHARACTERS\n",
       ":   0CHARSET\n",
       ":   0SERVER\n",
       ":   0.0561482313307131CONTENT_LENGTH\n",
       ":   45.592363840539WHOIS_COUNTRY\n",
       ":   0WHOIS_STATEPRO\n",
       ":   0WHOIS_REGDATE\n",
       ":   0WHOIS_UPDATED_DATE\n",
       ":   0TCP_CONVERSATION_EXCHANGE\n",
       ":   0DIST_REMOTE_TCP_PORT\n",
       ":   0REMOTE_IPS\n",
       ":   0APP_BYTES\n",
       ":   0SOURCE_APP_PACKETS\n",
       ":   0REMOTE_APP_PACKETS\n",
       ":   0SOURCE_APP_BYTES\n",
       ":   0REMOTE_APP_BYTES\n",
       ":   0APP_PACKETS\n",
       ":   0DNS_QUERY_TIMES\n",
       ":   0.0561482313307131Type\n",
       ":   0\n",
       "\n"
      ],
      "text/plain": [
       "                      URL                URL_LENGTH NUMBER_SPECIAL_CHARACTERS \n",
       "               0.00000000                0.00000000                0.00000000 \n",
       "                  CHARSET                    SERVER            CONTENT_LENGTH \n",
       "               0.00000000                0.05614823               45.59236384 \n",
       "            WHOIS_COUNTRY            WHOIS_STATEPRO             WHOIS_REGDATE \n",
       "               0.00000000                0.00000000                0.00000000 \n",
       "       WHOIS_UPDATED_DATE TCP_CONVERSATION_EXCHANGE      DIST_REMOTE_TCP_PORT \n",
       "               0.00000000                0.00000000                0.00000000 \n",
       "               REMOTE_IPS                 APP_BYTES        SOURCE_APP_PACKETS \n",
       "               0.00000000                0.00000000                0.00000000 \n",
       "       REMOTE_APP_PACKETS          SOURCE_APP_BYTES          REMOTE_APP_BYTES \n",
       "               0.00000000                0.00000000                0.00000000 \n",
       "              APP_PACKETS           DNS_QUERY_TIMES                      Type \n",
       "               0.00000000                0.05614823                0.00000000 "
      ]
     },
     "metadata": {},
     "output_type": "display_data"
    }
   ],
   "source": [
    "pMiss = function(x){sum(is.na(x))/length(x)*100}\n",
    "apply(train,2,pMiss)"
   ]
  },
  {
   "cell_type": "code",
   "execution_count": null,
   "metadata": {},
   "outputs": [],
   "source": []
  },
  {
   "cell_type": "code",
   "execution_count": 38,
   "metadata": {},
   "outputs": [
    {
     "name": "stderr",
     "output_type": "stream",
     "text": [
      "Warning message:\n",
      "\"package 'VIM' was built under R version 3.6.3\"Loading required package: colorspace\n",
      "Warning message:\n",
      "\"package 'colorspace' was built under R version 3.6.3\"Loading required package: grid\n",
      "Loading required package: data.table\n",
      "Warning message:\n",
      "\"package 'data.table' was built under R version 3.6.3\"\n",
      "Attaching package: 'data.table'\n",
      "\n",
      "The following object is masked from 'package:purrr':\n",
      "\n",
      "    transpose\n",
      "\n",
      "The following objects are masked from 'package:dplyr':\n",
      "\n",
      "    between, first, last\n",
      "\n",
      "VIM is ready to use. \n",
      " Since version 4.0.0 the GUI is in its own package VIMGUI.\n",
      "\n",
      "          Please use the package to use the new (and old) GUI.\n",
      "\n",
      "Suggestions and bug-reports can be submitted at: https://github.com/alexkowa/VIM/issues\n",
      "\n",
      "Attaching package: 'VIM'\n",
      "\n",
      "The following object is masked from 'package:datasets':\n",
      "\n",
      "    sleep\n",
      "\n",
      "Warning message in plot.aggr(res, ...):\n",
      "\"not enough horizontal space to display frequencies\""
     ]
    },
    {
     "name": "stdout",
     "output_type": "stream",
     "text": [
      "\n",
      " Variables sorted by number of missings: \n",
      "                  Variable        Count\n",
      "            CONTENT_LENGTH 0.4559236384\n",
      "                    SERVER 0.0005614823\n",
      "           DNS_QUERY_TIMES 0.0005614823\n",
      "                       URL 0.0000000000\n",
      "                URL_LENGTH 0.0000000000\n",
      " NUMBER_SPECIAL_CHARACTERS 0.0000000000\n",
      "                   CHARSET 0.0000000000\n",
      "             WHOIS_COUNTRY 0.0000000000\n",
      "            WHOIS_STATEPRO 0.0000000000\n",
      "             WHOIS_REGDATE 0.0000000000\n",
      "        WHOIS_UPDATED_DATE 0.0000000000\n",
      " TCP_CONVERSATION_EXCHANGE 0.0000000000\n",
      "      DIST_REMOTE_TCP_PORT 0.0000000000\n",
      "                REMOTE_IPS 0.0000000000\n",
      "                 APP_BYTES 0.0000000000\n",
      "        SOURCE_APP_PACKETS 0.0000000000\n",
      "        REMOTE_APP_PACKETS 0.0000000000\n",
      "          SOURCE_APP_BYTES 0.0000000000\n",
      "          REMOTE_APP_BYTES 0.0000000000\n",
      "               APP_PACKETS 0.0000000000\n",
      "                      Type 0.0000000000\n"
     ]
    },
    {
     "data": {
      "image/png": "[encoded data removed]",
      "text/plain": [
       "plot without title"
      ]
     },
     "metadata": {},
     "output_type": "display_data"
    }
   ],
   "source": [
    "options(repr.plot.width=8, repr.plot.height=5)\n",
    "library(VIM)\n",
    "aggr_plot = aggr(train, col=c('navyblue','red'), numbers=TRUE, sortVars=TRUE,\n",
    "                 labels=names(train), cex.axis=.7, gap=1,\n",
    "                 ylab=c(\"Histogram of missing data\",\"Pattern\"))"
   ]
  },
  {
   "cell_type": "code",
   "execution_count": null,
   "metadata": {},
   "outputs": [],
   "source": []
  },
  {
   "cell_type": "code",
   "execution_count": 39,
   "metadata": {},
   "outputs": [
    {
     "name": "stderr",
     "output_type": "stream",
     "text": [
      "Warning message:\n",
      "\"package 'Hmisc' was built under R version 3.6.3\"Loading required package: lattice\n",
      "Loading required package: survival\n",
      "Warning message:\n",
      "\"package 'survival' was built under R version 3.6.3\"Loading required package: Formula\n",
      "Warning message:\n",
      "\"package 'Formula' was built under R version 3.6.3\"\n",
      "Attaching package: 'Hmisc'\n",
      "\n",
      "The following objects are masked from 'package:dplyr':\n",
      "\n",
      "    src, summarize\n",
      "\n",
      "The following objects are masked from 'package:base':\n",
      "\n",
      "    format.pval, units\n",
      "\n"
     ]
    }
   ],
   "source": [
    "library(Hmisc)\n",
    "train$DNS_QUERY_TIMES=impute(train$DNS_QUERY_TIMES, 0)\n",
    "train$SERVER=impute(train$SERVER, 'nginx')\n",
    "train$CONTENT_LENGTH=impute(train$CONTENT_LENGTH, mean)"
   ]
  },
  {
   "cell_type": "code",
   "execution_count": 40,
   "metadata": {},
   "outputs": [
    {
     "data": {
      "text/plain": [
       "  [1]    263.00   15087.00     324.00     162.00  124140.00   11726.93*\n",
       "  [7]    345.00     324.00   11726.93*  11726.93*  11726.93*    324.00 \n",
       " [13]  13716.00    3692.00   13054.00     957.00     686.00     324.00 \n",
       " [19]  15025.00     324.00   11726.93*    318.00     224.00    4421.00 \n",
       " [25]  11726.93*    441.00   11726.93*   6671.00   11726.93*    434.00 \n",
       " [31]    324.00   13001.00    3257.00    6748.00   11726.93*  11726.93*\n",
       " [37]  11726.93*  11726.93*  11726.93*  11726.93*    240.00    3985.00 \n",
       " [43]    324.00    6173.00     319.00   11726.93*     34.00   11726.93*\n",
       " [49]   1778.00   11726.93*    324.00     224.00   11726.93*    318.00 \n",
       " [55]  11726.93*    345.00     756.00   11726.93*  11726.93*  14839.00 \n",
       " [61]    324.00   11726.93*  11726.93*    658.00   11726.93*  11726.93*\n",
       " [67]    195.00     324.00   11726.93*  11726.93*  11726.93*   4166.00 \n",
       " [73]    962.00     962.00     962.00    2688.00   11726.93*  11726.93*\n",
       " [79]    199.00    3548.00   11726.93*      0.00    5426.00   11726.93*\n",
       " [85]  11726.93*    345.00   11726.93*  11726.93*  11726.93*  11726.93*\n",
       " [91]    324.00   11726.93*  11726.93*  11726.93*   8756.00     193.00 \n",
       " [97]  11726.93*    324.00   11726.93*  11726.93*"
      ]
     },
     "metadata": {},
     "output_type": "display_data"
    }
   ],
   "source": [
    "head(train$CONTENT_LENGTH, 100)\n"
   ]
  },
  {
   "cell_type": "code",
   "execution_count": 41,
   "metadata": {},
   "outputs": [
    {
     "name": "stderr",
     "output_type": "stream",
     "text": [
      "Warning message:\n",
      "\"Continuous x aesthetic -- did you forget aes(group=...)?\""
     ]
    },
    {
     "data": {
      "image/png": "[encoded data removed]",
      "text/plain": [
       "plot without title"
      ]
     },
     "metadata": {},
     "output_type": "display_data"
    }
   ],
   "source": [
    "ggplot(train, aes(REMOTE_APP_PACKETS, y=SOURCE_APP_PACKETS)) + \n",
    "  geom_boxplot(color = 'red')"
   ]
  },
  {
   "cell_type": "code",
   "execution_count": 42,
   "metadata": {},
   "outputs": [
    {
     "data": {
      "image/png": "[encoded data removed]",
      "text/plain": [
       "plot without title"
      ]
     },
     "metadata": {},
     "output_type": "display_data"
    }
   ],
   "source": [
    "boxplot(train$URL_LENGTH, data=train, color = 'red', xlab = 'URL LENGTH',col = 'blue')"
   ]
  },
  {
   "cell_type": "code",
   "execution_count": 43,
   "metadata": {},
   "outputs": [
    {
     "data": {
      "image/png": "[encoded data removed]",
      "text/plain": [
       "plot without title"
      ]
     },
     "metadata": {},
     "output_type": "display_data"
    }
   ],
   "source": [
    "boxplot(train$SOURCE_APP_PACKETS, data=train, xlab = 'Source App Packets', col = 'gold')"
   ]
  },
  {
   "cell_type": "code",
   "execution_count": 44,
   "metadata": {},
   "outputs": [
    {
     "data": {
      "image/png": "[encoded data removed]",
      "text/plain": [
       "Plot with title \"Tcp Conversation exchange vs Type\""
      ]
     },
     "metadata": {},
     "output_type": "display_data"
    }
   ],
   "source": [
    "boxplot(TCP_CONVERSATION_EXCHANGE~Type,data=train, main=\"Tcp Conversation exchange vs Type\",\n",
    "   xlab=\"Website Type\", ylab=\"TCP conversation\", col=(c(\"gold\",\"darkgreen\")))"
   ]
  },
  {
   "cell_type": "code",
   "execution_count": 45,
   "metadata": {},
   "outputs": [
    {
     "data": {
      "image/png": "[encoded data removed]",
      "text/plain": [
       "Plot with title \"Source App Packets vs Type\""
      ]
     },
     "metadata": {},
     "output_type": "display_data"
    }
   ],
   "source": [
    "boxplot(SOURCE_APP_PACKETS~Type,data=train, main=\"Source App Packets vs Type\",\n",
    "   xlab=\"Type\", ylab=\"Source App Bytes\", col=(c(\"gold\",\"darkgreen\")))"
   ]
  },
  {
   "cell_type": "code",
   "execution_count": 46,
   "metadata": {},
   "outputs": [
    {
     "data": {
      "text/html": [
       "<table>\n",
       "<thead><tr><th scope=col>URL</th><th scope=col>NUMBER_SPECIAL_CHARACTERS</th><th scope=col>CHARSET</th><th scope=col>SERVER</th><th scope=col>CONTENT_LENGTH</th><th scope=col>WHOIS_COUNTRY</th><th scope=col>WHOIS_STATEPRO</th><th scope=col>WHOIS_REGDATE</th><th scope=col>WHOIS_UPDATED_DATE</th><th scope=col>APP_PACKETS</th><th scope=col>DNS_QUERY_TIMES</th><th scope=col>Type</th></tr></thead>\n",
       "<tbody>\n",
       "\t<tr><td>M0_109               </td><td>7                    </td><td>iso-8859-1           </td><td>nginx                </td><td>   263.00            </td><td>None                 </td><td>None                 </td><td>10/10/2015 18:21     </td><td>None                 </td><td> 9                   </td><td>2                    </td><td>1                    </td></tr>\n",
       "\t<tr><td>B0_2314              </td><td>6                    </td><td>UTF-8                </td><td>Apache/2.4.10        </td><td> 15087.00            </td><td>None                 </td><td>None                 </td><td>None                 </td><td>None                 </td><td>17                   </td><td>0                    </td><td>0                    </td></tr>\n",
       "\t<tr><td>B0_911               </td><td>6                    </td><td>us-ascii             </td><td>Microsoft-HTTPAPI/2.0</td><td>   324.00            </td><td>None                 </td><td>None                 </td><td>None                 </td><td>None                 </td><td> 0                   </td><td>0                    </td><td>0                    </td></tr>\n",
       "\t<tr><td>B0_113               </td><td>6                    </td><td>ISO-8859-1           </td><td>nginx                </td><td>   162.00            </td><td>US                   </td><td>AK                   </td><td>7/10/1997 4:00       </td><td>12/09/2013 0:45      </td><td>39                   </td><td>8                    </td><td>0                    </td></tr>\n",
       "\t<tr><td>B0_403               </td><td>6                    </td><td>UTF-8                </td><td>None                 </td><td>124140.00            </td><td>US                   </td><td>TX                   </td><td>12/05/1996 0:00      </td><td>11/04/2017 0:00      </td><td>61                   </td><td>4                    </td><td>0                    </td></tr>\n",
       "\t<tr><td>B0_2064              </td><td>7                    </td><td>UTF-8                </td><td>nginx                </td><td> 11726.93            </td><td>SC                   </td><td>Mahe                 </td><td>3/08/2016 14:30      </td><td>3/10/2016 3:45       </td><td>11                   </td><td>0                    </td><td>0                    </td></tr>\n",
       "</tbody>\n",
       "</table>\n"
      ],
      "text/latex": [
       "\\begin{tabular}{r|llllllllllll}\n",
       " URL & NUMBER\\_SPECIAL\\_CHARACTERS & CHARSET & SERVER & CONTENT\\_LENGTH & WHOIS\\_COUNTRY & WHOIS\\_STATEPRO & WHOIS\\_REGDATE & WHOIS\\_UPDATED\\_DATE & APP\\_PACKETS & DNS\\_QUERY\\_TIMES & Type\\\\\n",
       "\\hline\n",
       "\t M0\\_109              & 7                     & iso-8859-1            & nginx                 &    263.00             & None                  & None                  & 10/10/2015 18:21      & None                  &  9                    & 2                     & 1                    \\\\\n",
       "\t B0\\_2314             & 6                     & UTF-8                 & Apache/2.4.10         &  15087.00             & None                  & None                  & None                  & None                  & 17                    & 0                     & 0                    \\\\\n",
       "\t B0\\_911              & 6                     & us-ascii              & Microsoft-HTTPAPI/2.0 &    324.00             & None                  & None                  & None                  & None                  &  0                    & 0                     & 0                    \\\\\n",
       "\t B0\\_113              & 6                     & ISO-8859-1            & nginx                 &    162.00             & US                    & AK                    & 7/10/1997 4:00        & 12/09/2013 0:45       & 39                    & 8                     & 0                    \\\\\n",
       "\t B0\\_403              & 6                     & UTF-8                 & None                  & 124140.00             & US                    & TX                    & 12/05/1996 0:00       & 11/04/2017 0:00       & 61                    & 4                     & 0                    \\\\\n",
       "\t B0\\_2064             & 7                     & UTF-8                 & nginx                 &  11726.93             & SC                    & Mahe                  & 3/08/2016 14:30       & 3/10/2016 3:45        & 11                    & 0                     & 0                    \\\\\n",
       "\\end{tabular}\n"
      ],
      "text/markdown": [
       "\n",
       "| URL | NUMBER_SPECIAL_CHARACTERS | CHARSET | SERVER | CONTENT_LENGTH | WHOIS_COUNTRY | WHOIS_STATEPRO | WHOIS_REGDATE | WHOIS_UPDATED_DATE | APP_PACKETS | DNS_QUERY_TIMES | Type |\n",
       "|---|---|---|---|---|---|---|---|---|---|---|---|\n",
       "| M0_109                | 7                     | iso-8859-1            | nginx                 |    263.00             | None                  | None                  | 10/10/2015 18:21      | None                  |  9                    | 2                     | 1                     |\n",
       "| B0_2314               | 6                     | UTF-8                 | Apache/2.4.10         |  15087.00             | None                  | None                  | None                  | None                  | 17                    | 0                     | 0                     |\n",
       "| B0_911                | 6                     | us-ascii              | Microsoft-HTTPAPI/2.0 |    324.00             | None                  | None                  | None                  | None                  |  0                    | 0                     | 0                     |\n",
       "| B0_113                | 6                     | ISO-8859-1            | nginx                 |    162.00             | US                    | AK                    | 7/10/1997 4:00        | 12/09/2013 0:45       | 39                    | 8                     | 0                     |\n",
       "| B0_403                | 6                     | UTF-8                 | None                  | 124140.00             | US                    | TX                    | 12/05/1996 0:00       | 11/04/2017 0:00       | 61                    | 4                     | 0                     |\n",
       "| B0_2064               | 7                     | UTF-8                 | nginx                 |  11726.93             | SC                    | Mahe                  | 3/08/2016 14:30       | 3/10/2016 3:45        | 11                    | 0                     | 0                     |\n",
       "\n"
      ],
      "text/plain": [
       "  URL     NUMBER_SPECIAL_CHARACTERS CHARSET    SERVER               \n",
       "1 M0_109  7                         iso-8859-1 nginx                \n",
       "2 B0_2314 6                         UTF-8      Apache/2.4.10        \n",
       "3 B0_911  6                         us-ascii   Microsoft-HTTPAPI/2.0\n",
       "4 B0_113  6                         ISO-8859-1 nginx                \n",
       "5 B0_403  6                         UTF-8      None                 \n",
       "6 B0_2064 7                         UTF-8      nginx                \n",
       "  CONTENT_LENGTH WHOIS_COUNTRY WHOIS_STATEPRO WHOIS_REGDATE   \n",
       "1    263.00      None          None           10/10/2015 18:21\n",
       "2  15087.00      None          None           None            \n",
       "3    324.00      None          None           None            \n",
       "4    162.00      US            AK             7/10/1997 4:00  \n",
       "5 124140.00      US            TX             12/05/1996 0:00 \n",
       "6  11726.93      SC            Mahe           3/08/2016 14:30 \n",
       "  WHOIS_UPDATED_DATE APP_PACKETS DNS_QUERY_TIMES Type\n",
       "1 None                9          2               1   \n",
       "2 None               17          0               0   \n",
       "3 None                0          0               0   \n",
       "4 12/09/2013 0:45    39          8               0   \n",
       "5 11/04/2017 0:00    61          4               0   \n",
       "6 3/10/2016 3:45     11          0               0   "
      ]
     },
     "metadata": {},
     "output_type": "display_data"
    }
   ],
   "source": [
    "train_cap = train[,c(\"REMOTE_APP_PACKETS\", \"URL_LENGTH\", \"SOURCE_APP_PACKETS\",\"REMOTE_APP_BYTES\",\"SOURCE_APP_BYTES\",\n",
    "                     \"APP_BYTES\", \"REMOTE_IPS\", \"DIST_REMOTE_TCP_PORT\",\"TCP_CONVERSATION_EXCHANGE\")]\n",
    "train_other = train[,-c(2,11,12,13,14,15,16,17,18)]\n",
    "head(train_other)"
   ]
  },
  {
   "cell_type": "code",
   "execution_count": 47,
   "metadata": {},
   "outputs": [
    {
     "name": "stdout",
     "output_type": "stream",
     "text": [
      "'data.frame':\t1781 obs. of  9 variables:\n",
      " $ REMOTE_APP_PACKETS       : int  10 19 0 37 62 13 13 0 3 1 ...\n",
      " $ URL_LENGTH               : int  16 16 16 17 17 18 18 19 20 20 ...\n",
      " $ SOURCE_APP_PACKETS       : int  9 17 0 39 61 11 14 0 2 2 ...\n",
      " $ REMOTE_APP_BYTES         : int  832 1230 0 4380 4586 894 1327 0 146 146 ...\n",
      " $ SOURCE_APP_BYTES         : int  1153 1265 0 18784 129889 838 8559 0 213 62 ...\n",
      " $ APP_BYTES                : int  700 1230 0 3812 4278 894 1189 0 0 0 ...\n",
      " $ REMOTE_IPS               : int  2 4 0 3 5 9 3 0 0 0 ...\n",
      " $ DIST_REMOTE_TCP_PORT     : int  0 7 0 22 2 6 0 0 0 0 ...\n",
      " $ TCP_CONVERSATION_EXCHANGE: int  7 17 0 31 57 11 12 0 0 0 ...\n",
      "'data.frame':\t1781 obs. of  12 variables:\n",
      " $ URL                      : Factor w/ 1781 levels \"B0_1\",\"B0_10\",..: 1575 797 1480 133 983 548 1043 131 1705 1706 ...\n",
      " $ NUMBER_SPECIAL_CHARACTERS: int  7 6 6 6 6 7 6 6 5 5 ...\n",
      " $ CHARSET                  : Factor w/ 9 levels \"ISO-8859\",\"iso-8859-1\",..: 2 7 5 3 7 7 2 5 6 6 ...\n",
      " $ SERVER                   : Factor w/ 239 levels \".V01 Apache\",..: 177 60 124 177 210 177 16 124 188 188 ...\n",
      "  ..- attr(*, \"imputed\")= int 1307\n",
      " $ CONTENT_LENGTH           : 'impute' num  263 15087 324 162 124140 ...\n",
      "  ..- attr(*, \"imputed\")= int  6 9 10 11 21 25 27 29 35 36 ...\n",
      " $ WHOIS_COUNTRY            : Factor w/ 49 levels \"[u'GB'; u'UK']\",..: 31 31 31 48 48 37 48 48 31 31 ...\n",
      " $ WHOIS_STATEPRO           : Factor w/ 182 levels \"-\",\"--\",\"6110021\",..: 104 104 104 6 156 71 32 41 104 104 ...\n",
      " $ WHOIS_REGDATE            : Factor w/ 891 levels \"0\",\"1/02/1994 0:00\",..: 60 891 891 807 94 645 608 259 846 846 ...\n",
      " $ WHOIS_UPDATED_DATE       : Factor w/ 594 levels \"1/01/2017 0:00\",..: 594 594 594 69 43 443 11 203 594 594 ...\n",
      " $ APP_PACKETS              : int  9 17 0 39 61 11 14 0 2 2 ...\n",
      " $ DNS_QUERY_TIMES          : 'impute' num  2 0 0 8 4 0 2 0 2 2 ...\n",
      "  ..- attr(*, \"imputed\")= int 1660\n",
      " $ Type                     : int  1 0 0 0 0 0 0 0 1 1 ...\n"
     ]
    }
   ],
   "source": [
    "str(train_cap)\n",
    "str(train_other)"
   ]
  },
  {
   "cell_type": "code",
   "execution_count": 48,
   "metadata": {},
   "outputs": [
    {
     "data": {
      "text/plain": [
       "   Min. 1st Qu.  Median    Mean 3rd Qu.    Max. \n",
       "  16.00   39.00   49.00   56.96   68.00  249.00 "
      ]
     },
     "metadata": {},
     "output_type": "display_data"
    },
    {
     "data": {
      "text/plain": [
       " REMOTE_APP_PACKETS   URL_LENGTH     SOURCE_APP_PACKETS REMOTE_APP_BYTES\n",
       " Min.   : 0.00      Min.   : 26.00   Min.   : 0.00      Min.   :   0    \n",
       " 1st Qu.: 0.00      1st Qu.: 39.00   1st Qu.: 0.00      1st Qu.:   0    \n",
       " Median : 9.00      Median : 49.00   Median : 8.00      Median : 735    \n",
       " Mean   :15.43      Mean   : 55.72   Mean   :15.78      Mean   :1640    \n",
       " 3rd Qu.:25.00      3rd Qu.: 68.00   3rd Qu.:26.00      3rd Qu.:2701    \n",
       " Max.   :62.00      Max.   :110.00   Max.   :61.00      Max.   :6657    \n",
       " SOURCE_APP_BYTES   APP_BYTES      REMOTE_IPS     DIST_REMOTE_TCP_PORT\n",
       " Min.   :    0    Min.   :   0   Min.   : 0.000   Min.   : 0.000      \n",
       " 1st Qu.:    0    1st Qu.:   0   1st Qu.: 0.000   1st Qu.: 0.000      \n",
       " Median :  579    Median : 672   Median : 2.000   Median : 0.000      \n",
       " Mean   :10090    Mean   :1473   Mean   : 2.965   Mean   : 4.001      \n",
       " 3rd Qu.: 9806    3rd Qu.:2328   3rd Qu.: 5.000   3rd Qu.: 5.000      \n",
       " Max.   :66124    Max.   :6235   Max.   :10.000   Max.   :26.000      \n",
       " TCP_CONVERSATION_EXCHANGE\n",
       " Min.   : 0.00            \n",
       " 1st Qu.: 0.00            \n",
       " Median : 7.00            \n",
       " Mean   :13.53            \n",
       " 3rd Qu.:22.00            \n",
       " Max.   :55.00            "
      ]
     },
     "metadata": {},
     "output_type": "display_data"
    },
    {
     "name": "stdout",
     "output_type": "stream",
     "text": [
      "\n",
      " 1 values imputed to nginx \n",
      "\n",
      "\n",
      " 812 values imputed to 11726.93 \n",
      "\n",
      "\n",
      " 1 values imputed to 0 \n",
      "\n"
     ]
    },
    {
     "data": {
      "text/plain": [
       "      URL       NUMBER_SPECIAL_CHARACTERS       CHARSET   \n",
       " B0_1   :   1   Min.   : 5.00             UTF-8     :676  \n",
       " B0_10  :   1   1st Qu.: 8.00             ISO-8859-1:427  \n",
       " B0_100 :   1   Median :10.00             utf-8     :379  \n",
       " B0_1000:   1   Mean   :11.11             us-ascii  :155  \n",
       " B0_1001:   1   3rd Qu.:13.00             iso-8859-1:134  \n",
       " B0_1002:   1   Max.   :43.00             None      :  7  \n",
       " (Other):1775                             (Other)   :  3  \n",
       "                   SERVER    CONTENT_LENGTH   WHOIS_COUNTRY    WHOIS_STATEPRO\n",
       " Apache               :386   Min.   :     0   US     :1103   CA       :372   \n",
       " nginx                :212   1st Qu.:  1502   None   : 306   None     :362   \n",
       " None                 :175   Median : 11727   CA     :  84   NY       : 75   \n",
       " Microsoft-HTTPAPI/2.0:113   Mean   : 11727   ES     :  63   WA       : 65   \n",
       " cloudflare-nginx     : 94   3rd Qu.: 11727   AU     :  35   Barcelona: 62   \n",
       " Microsoft-IIS/7.5    : 51   Max.   :649263   PA     :  21   FL       : 61   \n",
       " (Other)              :750                    (Other): 169   (Other)  :784   \n",
       "         WHOIS_REGDATE         WHOIS_UPDATED_DATE  APP_PACKETS     \n",
       " None           : 127   None            : 139     Min.   :   0.00  \n",
       " 17/09/2008 0:00:  62   2/09/2016 0:00  :  64     1st Qu.:   0.00  \n",
       " 13/01/2001 0:12:  59   12/12/2015 10:16:  59     Median :   8.00  \n",
       " 31/07/2000 0:00:  47   29/06/2016 0:00 :  47     Mean   :  18.54  \n",
       " 15/02/2005 0:00:  41   14/01/2017 0:00 :  42     3rd Qu.:  26.00  \n",
       " 29/03/1997 0:00:  33   29/11/2016 0:00 :  36     Max.   :1198.00  \n",
       " (Other)        :1412   (Other)         :1394                      \n",
       " DNS_QUERY_TIMES       Type        REMOTE_APP_PACKETS   URL_LENGTH    \n",
       " Min.   : 0.000   Min.   :0.0000   Min.   : 0.00      Min.   : 26.00  \n",
       " 1st Qu.: 0.000   1st Qu.:0.0000   1st Qu.: 0.00      1st Qu.: 39.00  \n",
       " Median : 0.000   Median :0.0000   Median : 9.00      Median : 49.00  \n",
       " Mean   : 2.262   Mean   :0.1213   Mean   :15.43      Mean   : 55.72  \n",
       " 3rd Qu.: 4.000   3rd Qu.:0.0000   3rd Qu.:25.00      3rd Qu.: 68.00  \n",
       " Max.   :20.000   Max.   :1.0000   Max.   :62.00      Max.   :110.00  \n",
       "                                                                      \n",
       " SOURCE_APP_PACKETS REMOTE_APP_BYTES SOURCE_APP_BYTES   APP_BYTES   \n",
       " Min.   : 0.00      Min.   :   0     Min.   :    0    Min.   :   0  \n",
       " 1st Qu.: 0.00      1st Qu.:   0     1st Qu.:    0    1st Qu.:   0  \n",
       " Median : 8.00      Median : 735     Median :  579    Median : 672  \n",
       " Mean   :15.78      Mean   :1640     Mean   :10090    Mean   :1473  \n",
       " 3rd Qu.:26.00      3rd Qu.:2701     3rd Qu.: 9806    3rd Qu.:2328  \n",
       " Max.   :61.00      Max.   :6657     Max.   :66124    Max.   :6235  \n",
       "                                                                    \n",
       "   REMOTE_IPS     DIST_REMOTE_TCP_PORT TCP_CONVERSATION_EXCHANGE\n",
       " Min.   : 0.000   Min.   : 0.000       Min.   : 0.00            \n",
       " 1st Qu.: 0.000   1st Qu.: 0.000       1st Qu.: 0.00            \n",
       " Median : 2.000   Median : 0.000       Median : 7.00            \n",
       " Mean   : 2.965   Mean   : 4.001       Mean   :13.53            \n",
       " 3rd Qu.: 5.000   3rd Qu.: 5.000       3rd Qu.:22.00            \n",
       " Max.   :10.000   Max.   :26.000       Max.   :55.00            \n",
       "                                                                "
      ]
     },
     "metadata": {},
     "output_type": "display_data"
    }
   ],
   "source": [
    "pcap <- function(x){\n",
    "  for (i in which(sapply(x, is.numeric))) {\n",
    "    quantiles <- quantile( x[,i], c(.05, .95 ), na.rm =TRUE)\n",
    "    x[,i] = ifelse(x[,i] < quantiles[1] , quantiles[1], x[,i])\n",
    "    x[,i] = ifelse(x[,i] > quantiles[2] , quantiles[2], x[,i])}\n",
    "  x}\n",
    "\n",
    "# Replacing extreme values with percentiles\n",
    "train_capped = pcap(train_cap)\n",
    "summary(train$URL_LENGTH)\n",
    "summary(train_capped)\n",
    "\n",
    "#join back with rest of data;\n",
    "train_combine = cbind(train_other, train_capped)\n",
    "summary(train_combine)"
   ]
  },
  {
   "cell_type": "code",
   "execution_count": 49,
   "metadata": {},
   "outputs": [],
   "source": [
    "#log transfomartions\n",
    "train_combine$REMOTE_APP_PACKETS=log(train_combine$REMOTE_APP_PACKETS+1)\n",
    "train_combine$URL_LENGTH=log(train_combine$URL_LENGTH+1)\n",
    "train_combine$SOURCE_APP_PACKETS=log(train_combine$SOURCE_APP_PACKETS+1)\n",
    "train_combine$TCP_CONVERSATION_EXCHANGE=log(train_combine$TCP_CONVERSATION_EXCHANGE+1)\n",
    "train_combine$DIST_REMOTE_TCP_PORT=log(train_combine$DIST_REMOTE_TCP_PORT+1)\n",
    "train_combine$REMOTE_APP_BYTES=log(train_combine$REMOTE_APP_BYTES+1)\n",
    "train_combine$SOURCE_APP_BYTES=log(train_combine$SOURCE_APP_BYTES+1)\n",
    "train_combine$APP_BYTES=log(train_combine$APP_BYTES+1)\n",
    "train_combine$REMOTE_IPS=log(train_combine$REMOTE_IPS+1)\n",
    "\n",
    "train_cap$REMOTE_APP_PACKETS=log(train_cap$REMOTE_APP_PACKETS+1)\n",
    "train_cap$URL_LENGTH=log(train_cap$URL_LENGTH+1)\n",
    "train_cap$SOURCE_APP_PACKETS=log(train_cap$SOURCE_APP_PACKETS+1)\n",
    "train_cap$TCP_CONVERSATION_EXCHANGE=log(train_cap$TCP_CONVERSATION_EXCHANGE+1)\n",
    "train_cap$DIST_REMOTE_TCP_PORT=log(train_cap$DIST_REMOTE_TCP_PORT+1)\n",
    "train_cap$REMOTE_APP_BYTES=log(train_cap$REMOTE_APP_BYTES+1)\n",
    "train_cap$SOURCE_APP_BYTES=log(train_cap$SOURCE_APP_BYTES+1)\n",
    "train_cap$APP_BYTES=log(train_cap$APP_BYTES+1)\n",
    "train_cap$REMOTE_IPS=log(train_cap$REMOTE_IPS+1)"
   ]
  },
  {
   "cell_type": "code",
   "execution_count": 50,
   "metadata": {},
   "outputs": [
    {
     "data": {
      "text/html": [
       "<ol class=list-inline>\n",
       "\t<li>356</li>\n",
       "\t<li>21</li>\n",
       "</ol>\n"
      ],
      "text/latex": [
       "\\begin{enumerate*}\n",
       "\\item 356\n",
       "\\item 21\n",
       "\\end{enumerate*}\n"
      ],
      "text/markdown": [
       "1. 356\n",
       "2. 21\n",
       "\n",
       "\n"
      ],
      "text/plain": [
       "[1] 356  21"
      ]
     },
     "metadata": {},
     "output_type": "display_data"
    },
    {
     "data": {
      "text/html": [
       "<ol class=list-inline>\n",
       "\t<li>1425</li>\n",
       "\t<li>21</li>\n",
       "</ol>\n"
      ],
      "text/latex": [
       "\\begin{enumerate*}\n",
       "\\item 1425\n",
       "\\item 21\n",
       "\\end{enumerate*}\n"
      ],
      "text/markdown": [
       "1. 1425\n",
       "2. 21\n",
       "\n",
       "\n"
      ],
      "text/plain": [
       "[1] 1425   21"
      ]
     },
     "metadata": {},
     "output_type": "display_data"
    }
   ],
   "source": [
    "indexes = sample(1:nrow(train_combine), size=0.2*nrow(train_combine))\n",
    " \n",
    "# Split data\n",
    "x_test = train_combine[indexes,]\n",
    "dim(x_test) \n",
    "x_train = train_combine[-indexes,]\n",
    "dim(x_train)"
   ]
  },
  {
   "cell_type": "code",
   "execution_count": 51,
   "metadata": {},
   "outputs": [
    {
     "data": {
      "text/plain": [
       "\n",
       "Call:\n",
       "lm(formula = y_train ~ ., data = train_cap)\n",
       "\n",
       "Residuals:\n",
       "     Min       1Q   Median       3Q      Max \n",
       "-0.61870 -0.12777 -0.03513  0.00006  1.26679 \n",
       "\n",
       "Coefficients:\n",
       "                            Estimate Std. Error t value Pr(>|t|)    \n",
       "(Intercept)                0.0326289  0.0650728   0.501   0.6161    \n",
       "REMOTE_APP_PACKETS         0.2069594  0.0403455   5.130 3.22e-07 ***\n",
       "URL_LENGTH                 0.0006196  0.0162186   0.038   0.9695    \n",
       "SOURCE_APP_PACKETS         0.0769367  0.0914591   0.841   0.4003    \n",
       "REMOTE_APP_BYTES           0.0578623  0.0493911   1.172   0.2416    \n",
       "SOURCE_APP_BYTES           0.0737725  0.0112181   6.576 6.33e-11 ***\n",
       "APP_BYTES                 -0.0764944  0.0481829  -1.588   0.1126    \n",
       "REMOTE_IPS                 0.0370648  0.0185127   2.002   0.0454 *  \n",
       "DIST_REMOTE_TCP_PORT      -0.0943124  0.0084708 -11.134  < 2e-16 ***\n",
       "TCP_CONVERSATION_EXCHANGE -0.4060215  0.0886340  -4.581 4.95e-06 ***\n",
       "---\n",
       "Signif. codes:  0 '***' 0.001 '**' 0.01 '*' 0.05 '.' 0.1 ' ' 1\n",
       "\n",
       "Residual standard error: 0.2723 on 1771 degrees of freedom\n",
       "Multiple R-squared:  0.3082,\tAdjusted R-squared:  0.3047 \n",
       "F-statistic: 87.68 on 9 and 1771 DF,  p-value: < 2.2e-16\n"
      ]
     },
     "metadata": {},
     "output_type": "display_data"
    }
   ],
   "source": [
    "#Load Train and Test datasets\n",
    "#Identify feature and response variable(s) and values must be numeric and numpy arrays\n",
    "#x_train <- train_combine[,train_combine.isnumeric]\n",
    "y_train <- train_combine$Type\n",
    "#x_test <- \n",
    "#x <- cbind(x_train,y_train)\n",
    "# Train the model using the training sets and check score\n",
    "linear <- lm(y_train ~ ., data = train_cap)\n",
    "\n",
    "\n",
    "summary(linear)\n",
    "#Predict Output\n",
    "\n",
    "predicted= predict(linear,x_test)"
   ]
  },
  {
   "cell_type": "code",
   "execution_count": 52,
   "metadata": {},
   "outputs": [
    {
     "data": {
      "text/plain": [
       "\n",
       "Call:\n",
       "glm(formula = y_train ~ ., family = \"binomial\", data = train_cap)\n",
       "\n",
       "Deviance Residuals: \n",
       "    Min       1Q   Median       3Q      Max  \n",
       "-1.8037  -0.2734  -0.1904  -0.1201   3.9481  \n",
       "\n",
       "Coefficients:\n",
       "                          Estimate Std. Error z value Pr(>|z|)    \n",
       "(Intercept)                -2.2645     0.9890  -2.290   0.0220 *  \n",
       "REMOTE_APP_PACKETS          3.8553     0.6196   6.222 4.90e-10 ***\n",
       "URL_LENGTH                 -0.4395     0.2440  -1.801   0.0717 .  \n",
       "SOURCE_APP_PACKETS          0.1241     1.1820   0.105   0.9164    \n",
       "REMOTE_APP_BYTES            0.4083     0.7794   0.524   0.6004    \n",
       "SOURCE_APP_BYTES            0.2236     0.1431   1.562   0.1183    \n",
       "APP_BYTES                  -0.2506     0.7574  -0.331   0.7408    \n",
       "REMOTE_IPS                  0.4555     0.2760   1.650   0.0988 .  \n",
       "DIST_REMOTE_TCP_PORT       -1.5057     0.1772  -8.497  < 2e-16 ***\n",
       "TCP_CONVERSATION_EXCHANGE  -4.4254     1.1116  -3.981 6.86e-05 ***\n",
       "---\n",
       "Signif. codes:  0 '***' 0.001 '**' 0.01 '*' 0.05 '.' 0.1 ' ' 1\n",
       "\n",
       "(Dispersion parameter for binomial family taken to be 1)\n",
       "\n",
       "    Null deviance: 1316.04  on 1780  degrees of freedom\n",
       "Residual deviance:  781.97  on 1771  degrees of freedom\n",
       "AIC: 801.97\n",
       "\n",
       "Number of Fisher Scoring iterations: 7\n"
      ]
     },
     "metadata": {},
     "output_type": "display_data"
    }
   ],
   "source": [
    "# Train the model using the training sets and check score\n",
    "logistic <- glm(y_train ~ ., data = train_cap,family='binomial')\n",
    "summary(logistic)\n",
    "#Predict Output\n",
    "predicted= predict(logistic,x_test)"
   ]
  },
  {
   "cell_type": "code",
   "execution_count": 58,
   "metadata": {
    "scrolled": false
   },
   "outputs": [
    {
     "name": "stdout",
     "output_type": "stream",
     "text": [
      "Call:\n",
      "rpart(formula = y_train ~ ., data = train_cap, method = \"class\", \n",
      "    control = rpart.control(cp = 0.01))\n",
      "  n= 1781 \n",
      "\n",
      "          CP nsplit rel error    xerror       xstd\n",
      "1 0.12037037      0 1.0000000 1.0000000 0.06378203\n",
      "2 0.08564815      3 0.6388889 0.6574074 0.05292342\n",
      "3 0.01620370      5 0.4675926 0.4814815 0.04581392\n",
      "4 0.01234568     10 0.3796296 0.4768519 0.04560672\n",
      "5 0.01000000     13 0.3425926 0.4629630 0.04497779\n",
      "\n",
      "Variable importance\n",
      "         SOURCE_APP_BYTES        REMOTE_APP_PACKETS          REMOTE_APP_BYTES \n",
      "                       16                        16                        16 \n",
      "                APP_BYTES        SOURCE_APP_PACKETS                REMOTE_IPS \n",
      "                       15                        15                        10 \n",
      "TCP_CONVERSATION_EXCHANGE      DIST_REMOTE_TCP_PORT                URL_LENGTH \n",
      "                        7                         3                         2 \n",
      "\n",
      "Node number 1: 1781 observations,    complexity param=0.1203704\n",
      "  predicted class=0  expected loss=0.1212802  P(node) =1\n",
      "    class counts:  1565   216\n",
      "   probabilities: 0.879 0.121 \n",
      "  left son=2 (759 obs) right son=3 (1022 obs)\n",
      "  Primary splits:\n",
      "      DIST_REMOTE_TCP_PORT < 0.8958797 to the right, improve=30.16651, (0 missing)\n",
      "      URL_LENGTH           < 4.537947  to the left,  improve=27.36419, (0 missing)\n",
      "      REMOTE_APP_PACKETS   < 0.3465736 to the left,  improve=25.95457, (0 missing)\n",
      "      SOURCE_APP_BYTES     < 2.071567  to the left,  improve=25.95457, (0 missing)\n",
      "      REMOTE_APP_BYTES     < 8.462945  to the right, improve= 5.11022, (0 missing)\n",
      "  Surrogate splits:\n",
      "      APP_BYTES                 < 5.609364  to the right, agree=0.810, adj=0.555, (0 split)\n",
      "      REMOTE_APP_BYTES          < 5.601874  to the right, agree=0.809, adj=0.551, (0 split)\n",
      "      TCP_CONVERSATION_EXCHANGE < 0.8958797 to the right, agree=0.804, adj=0.540, (0 split)\n",
      "      SOURCE_APP_PACKETS        < 0.8958797 to the right, agree=0.802, adj=0.536, (0 split)\n",
      "      REMOTE_IPS                < 0.8958797 to the right, agree=0.799, adj=0.528, (0 split)\n",
      "\n",
      "Node number 2: 759 observations\n",
      "  predicted class=0  expected loss=0.01449275  P(node) =0.4261651\n",
      "    class counts:   748    11\n",
      "   probabilities: 0.986 0.014 \n",
      "\n",
      "Node number 3: 1022 observations,    complexity param=0.1203704\n",
      "  predicted class=0  expected loss=0.2005871  P(node) =0.5738349\n",
      "    class counts:   817   205\n",
      "   probabilities: 0.799 0.201 \n",
      "  left son=6 (590 obs) right son=7 (432 obs)\n",
      "  Primary splits:\n",
      "      REMOTE_APP_PACKETS < 0.3465736 to the left,  improve=112.31950, (0 missing)\n",
      "      SOURCE_APP_BYTES   < 2.071567  to the left,  improve=112.31950, (0 missing)\n",
      "      REMOTE_APP_BYTES   < 4.106013  to the left,  improve= 41.22198, (0 missing)\n",
      "      SOURCE_APP_PACKETS < 0.3465736 to the left,  improve= 40.93539, (0 missing)\n",
      "      APP_BYTES          < 4.106013  to the left,  improve= 39.44541, (0 missing)\n",
      "  Surrogate splits:\n",
      "      SOURCE_APP_BYTES   < 2.071567  to the left,  agree=1.000, adj=1.000, (0 split)\n",
      "      SOURCE_APP_PACKETS < 0.3465736 to the left,  agree=0.936, adj=0.850, (0 split)\n",
      "      REMOTE_APP_BYTES   < 2.003667  to the left,  agree=0.936, adj=0.850, (0 split)\n",
      "      APP_BYTES          < 2.003667  to the left,  agree=0.934, adj=0.845, (0 split)\n",
      "      REMOTE_IPS         < 0.3465736 to the left,  agree=0.934, adj=0.845, (0 split)\n",
      "\n",
      "Node number 6: 590 observations\n",
      "  predicted class=0  expected loss=0  P(node) =0.3312746\n",
      "    class counts:   590     0\n",
      "   probabilities: 1.000 0.000 \n",
      "\n",
      "Node number 7: 432 observations,    complexity param=0.1203704\n",
      "  predicted class=0  expected loss=0.474537  P(node) =0.2425604\n",
      "    class counts:   227   205\n",
      "   probabilities: 0.525 0.475 \n",
      "  left son=14 (340 obs) right son=15 (92 obs)\n",
      "  Primary splits:\n",
      "      SOURCE_APP_PACKETS        < 1.700599  to the right, improve=47.21091, (0 missing)\n",
      "      REMOTE_APP_BYTES          < 5.801452  to the right, improve=47.21091, (0 missing)\n",
      "      APP_BYTES                 < 5.303255  to the right, improve=47.03598, (0 missing)\n",
      "      TCP_CONVERSATION_EXCHANGE < 1.242453  to the right, improve=45.40363, (0 missing)\n",
      "      SOURCE_APP_BYTES          < 6.078885  to the right, improve=40.37904, (0 missing)\n",
      "  Surrogate splits:\n",
      "      REMOTE_APP_BYTES          < 5.801452  to the right, agree=1.000, adj=1.000, (0 split)\n",
      "      APP_BYTES                 < 5.587221  to the right, agree=0.998, adj=0.989, (0 split)\n",
      "      SOURCE_APP_BYTES          < 6.078885  to the right, agree=0.988, adj=0.946, (0 split)\n",
      "      TCP_CONVERSATION_EXCHANGE < 1.242453  to the right, agree=0.988, adj=0.946, (0 split)\n",
      "      REMOTE_APP_PACKETS        < 1.868835  to the right, agree=0.981, adj=0.913, (0 split)\n",
      "\n",
      "Node number 14: 340 observations,    complexity param=0.08564815\n",
      "  predicted class=0  expected loss=0.3529412  P(node) =0.190904\n",
      "    class counts:   220   120\n",
      "   probabilities: 0.647 0.353 \n",
      "  left son=28 (178 obs) right son=29 (162 obs)\n",
      "  Primary splits:\n",
      "      URL_LENGTH         < 3.795426  to the right, improve=16.967030, (0 missing)\n",
      "      SOURCE_APP_BYTES   < 9.497868  to the right, improve=11.065990, (0 missing)\n",
      "      REMOTE_APP_BYTES   < 8.47213   to the right, improve= 6.145853, (0 missing)\n",
      "      APP_BYTES          < 8.442847  to the right, improve= 5.576249, (0 missing)\n",
      "      REMOTE_APP_PACKETS < 4.06899   to the right, improve= 5.294118, (0 missing)\n",
      "  Surrogate splits:\n",
      "      REMOTE_APP_PACKETS < 2.740319  to the right, agree=0.568, adj=0.093, (0 split)\n",
      "      REMOTE_APP_BYTES   < 7.223636  to the right, agree=0.562, adj=0.080, (0 split)\n",
      "      SOURCE_APP_BYTES   < 9.97029   to the right, agree=0.562, adj=0.080, (0 split)\n",
      "      APP_BYTES          < 7.044899  to the right, agree=0.562, adj=0.080, (0 split)\n",
      "      SOURCE_APP_PACKETS < 2.602003  to the right, agree=0.559, adj=0.074, (0 split)\n",
      "\n",
      "Node number 15: 92 observations\n",
      "  predicted class=1  expected loss=0.07608696  P(node) =0.05165637\n",
      "    class counts:     7    85\n",
      "   probabilities: 0.076 0.924 \n",
      "\n",
      "Node number 28: 178 observations,    complexity param=0.01234568\n",
      "  predicted class=0  expected loss=0.2022472  P(node) =0.09994385\n",
      "    class counts:   142    36\n",
      "   probabilities: 0.798 0.202 \n",
      "  left son=56 (99 obs) right son=57 (79 obs)\n",
      "  Primary splits:\n",
      "      URL_LENGTH         < 4.051747  to the right, improve=2.929572, (0 missing)\n",
      "      REMOTE_APP_BYTES   < 8.47213   to the right, improve=1.638202, (0 missing)\n",
      "      APP_BYTES          < 8.304866  to the right, improve=1.633546, (0 missing)\n",
      "      REMOTE_APP_PACKETS < 4.06899   to the right, improve=1.537581, (0 missing)\n",
      "      SOURCE_APP_BYTES   < 11.15339  to the right, improve=1.537581, (0 missing)\n",
      "  Surrogate splits:\n",
      "      REMOTE_IPS         < 1.242453  to the right, agree=0.607, adj=0.114, (0 split)\n",
      "      REMOTE_APP_PACKETS < 2.524928  to the right, agree=0.596, adj=0.089, (0 split)\n",
      "      APP_BYTES          < 7.968652  to the left,  agree=0.584, adj=0.063, (0 split)\n",
      "      SOURCE_APP_PACKETS < 2.524928  to the right, agree=0.579, adj=0.051, (0 split)\n",
      "      REMOTE_APP_BYTES   < 7.360088  to the right, agree=0.579, adj=0.051, (0 split)\n",
      "\n",
      "Node number 29: 162 observations,    complexity param=0.08564815\n",
      "  predicted class=1  expected loss=0.4814815  P(node) =0.09096013\n",
      "    class counts:    78    84\n",
      "   probabilities: 0.481 0.519 \n",
      "  left son=58 (47 obs) right son=59 (115 obs)\n",
      "  Primary splits:\n",
      "      SOURCE_APP_BYTES          < 9.497868  to the right, improve=16.064470, (0 missing)\n",
      "      REMOTE_APP_PACKETS        < 3.384247  to the right, improve= 5.988889, (0 missing)\n",
      "      TCP_CONVERSATION_EXCHANGE < 3.276967  to the right, improve= 4.062802, (0 missing)\n",
      "      SOURCE_APP_PACKETS        < 3.511434  to the right, improve= 3.290297, (0 missing)\n",
      "      DIST_REMOTE_TCP_PORT      < 0.3465736 to the left,  improve= 3.170350, (0 missing)\n",
      "  Surrogate splits:\n",
      "      REMOTE_APP_PACKETS        < 3.34975   to the right, agree=0.883, adj=0.596, (0 split)\n",
      "      TCP_CONVERSATION_EXCHANGE < 3.198465  to the right, agree=0.852, adj=0.489, (0 split)\n",
      "      SOURCE_APP_PACKETS        < 3.511434  to the right, agree=0.833, adj=0.426, (0 split)\n",
      "      APP_BYTES                 < 7.787324  to the right, agree=0.784, adj=0.255, (0 split)\n",
      "      REMOTE_APP_BYTES          < 7.996477  to the right, agree=0.772, adj=0.213, (0 split)\n",
      "\n",
      "Node number 56: 99 observations\n",
      "  predicted class=0  expected loss=0.1212121  P(node) =0.05558675\n",
      "    class counts:    87    12\n",
      "   probabilities: 0.879 0.121 \n",
      "\n",
      "Node number 57: 79 observations,    complexity param=0.01234568\n",
      "  predicted class=0  expected loss=0.3037975  P(node) =0.0443571\n",
      "    class counts:    55    24\n",
      "   probabilities: 0.696 0.304 \n",
      "  left son=114 (38 obs) right son=115 (41 obs)\n",
      "  Primary splits:\n",
      "      URL_LENGTH         < 3.881511  to the left,  improve=5.772022, (0 missing)\n",
      "      REMOTE_IPS         < 0.8958797 to the right, improve=2.674864, (0 missing)\n",
      "      APP_BYTES          < 8.304866  to the right, improve=1.837502, (0 missing)\n",
      "      SOURCE_APP_PACKETS < 2.441401  to the right, improve=1.713759, (0 missing)\n",
      "      REMOTE_APP_PACKETS < 4.06899   to the right, improve=1.643074, (0 missing)\n",
      "  Surrogate splits:\n",
      "      REMOTE_APP_BYTES   < 8.26654   to the right, agree=0.595, adj=0.158, (0 split)\n",
      "      SOURCE_APP_BYTES   < 11.21092  to the right, agree=0.595, adj=0.158, (0 split)\n",
      "      APP_BYTES          < 8.304866  to the right, agree=0.595, adj=0.158, (0 split)\n",
      "      REMOTE_APP_PACKETS < 4.229782  to the right, agree=0.582, adj=0.132, (0 split)\n",
      "      SOURCE_APP_PACKETS < 4.1974    to the right, agree=0.582, adj=0.132, (0 split)\n",
      "\n",
      "Node number 58: 47 observations\n",
      "  predicted class=0  expected loss=0.1702128  P(node) =0.02638967\n",
      "    class counts:    39     8\n",
      "   probabilities: 0.830 0.170 \n",
      "\n",
      "Node number 59: 115 observations,    complexity param=0.0162037\n",
      "  predicted class=1  expected loss=0.3391304  P(node) =0.06457047\n",
      "    class counts:    39    76\n",
      "   probabilities: 0.339 0.661 \n",
      "  left son=118 (89 obs) right son=119 (26 obs)\n",
      "  Primary splits:\n",
      "      REMOTE_APP_BYTES          < 7.874925  to the left,  improve=7.727601, (0 missing)\n",
      "      APP_BYTES                 < 7.647448  to the left,  improve=7.590963, (0 missing)\n",
      "      TCP_CONVERSATION_EXCHANGE < 2.917405  to the left,  improve=4.985614, (0 missing)\n",
      "      SOURCE_APP_PACKETS        < 3.198465  to the left,  improve=4.641944, (0 missing)\n",
      "      REMOTE_APP_PACKETS        < 2.249905  to the left,  improve=4.000207, (0 missing)\n",
      "  Surrogate splits:\n",
      "      APP_BYTES                 < 7.683383  to the left,  agree=0.991, adj=0.962, (0 split)\n",
      "      SOURCE_APP_PACKETS        < 3.198465  to the left,  agree=0.948, adj=0.769, (0 split)\n",
      "      TCP_CONVERSATION_EXCHANGE < 2.917405  to the left,  agree=0.939, adj=0.731, (0 split)\n",
      "      REMOTE_APP_PACKETS        < 3.067782  to the left,  agree=0.930, adj=0.692, (0 split)\n",
      "      SOURCE_APP_BYTES          < 7.958221  to the left,  agree=0.826, adj=0.231, (0 split)\n",
      "\n",
      "Node number 114: 38 observations\n",
      "  predicted class=0  expected loss=0.1052632  P(node) =0.02133633\n",
      "    class counts:    34     4\n",
      "   probabilities: 0.895 0.105 \n",
      "\n",
      "Node number 115: 41 observations,    complexity param=0.01234568\n",
      "  predicted class=0  expected loss=0.4878049  P(node) =0.02302077\n",
      "    class counts:    21    20\n",
      "   probabilities: 0.512 0.488 \n",
      "  left son=230 (23 obs) right son=231 (18 obs)\n",
      "  Primary splits:\n",
      "      REMOTE_IPS         < 1.242453  to the right, improve=3.526452, (0 missing)\n",
      "      SOURCE_APP_BYTES   < 7.679174  to the left,  improve=2.515277, (0 missing)\n",
      "      APP_BYTES          < 7.996796  to the left,  improve=2.332632, (0 missing)\n",
      "      REMOTE_APP_BYTES   < 7.548356  to the left,  improve=2.095460, (0 missing)\n",
      "      SOURCE_APP_PACKETS < 3.113268  to the left,  improve=1.531283, (0 missing)\n",
      "  Surrogate splits:\n",
      "      SOURCE_APP_PACKETS        < 2.596478  to the right, agree=0.707, adj=0.333, (0 split)\n",
      "      REMOTE_APP_BYTES          < 7.254645  to the right, agree=0.707, adj=0.333, (0 split)\n",
      "      DIST_REMOTE_TCP_PORT      < 0.3465736 to the right, agree=0.707, adj=0.333, (0 split)\n",
      "      TCP_CONVERSATION_EXCHANGE < 2.35024   to the right, agree=0.707, adj=0.333, (0 split)\n",
      "      SOURCE_APP_BYTES          < 11.0579   to the left,  agree=0.683, adj=0.278, (0 split)\n",
      "\n",
      "Node number 118: 89 observations,    complexity param=0.0162037\n",
      "  predicted class=1  expected loss=0.4382022  P(node) =0.04997193\n",
      "    class counts:    39    50\n",
      "   probabilities: 0.438 0.562 \n",
      "  left son=236 (15 obs) right son=237 (74 obs)\n",
      "  Primary splits:\n",
      "      SOURCE_APP_BYTES          < 8.442793  to the right, improve=3.142747, (0 missing)\n",
      "      REMOTE_IPS                < 1.497866  to the left,  improve=2.682659, (0 missing)\n",
      "      REMOTE_APP_PACKETS        < 2.249905  to the left,  improve=2.666915, (0 missing)\n",
      "      SOURCE_APP_PACKETS        < 3.113268  to the right, improve=1.544275, (0 missing)\n",
      "      TCP_CONVERSATION_EXCHANGE < 2.249905  to the left,  improve=1.471647, (0 missing)\n",
      "  Surrogate splits:\n",
      "      APP_BYTES          < 7.531254  to the right, agree=0.876, adj=0.267, (0 split)\n",
      "      REMOTE_APP_BYTES   < 7.703231  to the right, agree=0.865, adj=0.200, (0 split)\n",
      "      REMOTE_APP_PACKETS < 2.970086  to the right, agree=0.843, adj=0.067, (0 split)\n",
      "\n",
      "Node number 119: 26 observations\n",
      "  predicted class=1  expected loss=0  P(node) =0.01459854\n",
      "    class counts:     0    26\n",
      "   probabilities: 0.000 1.000 \n",
      "\n",
      "Node number 230: 23 observations\n",
      "  predicted class=0  expected loss=0.3043478  P(node) =0.01291409\n",
      "    class counts:    16     7\n",
      "   probabilities: 0.696 0.304 \n",
      "\n",
      "Node number 231: 18 observations\n",
      "  predicted class=1  expected loss=0.2777778  P(node) =0.01010668\n",
      "    class counts:     5    13\n",
      "   probabilities: 0.278 0.722 \n",
      "\n",
      "Node number 236: 15 observations\n",
      "  predicted class=0  expected loss=0.2666667  P(node) =0.008422235\n",
      "    class counts:    11     4\n",
      "   probabilities: 0.733 0.267 \n",
      "\n",
      "Node number 237: 74 observations,    complexity param=0.0162037\n",
      "  predicted class=1  expected loss=0.3783784  P(node) =0.04154969\n",
      "    class counts:    28    46\n",
      "   probabilities: 0.378 0.622 \n",
      "  left son=474 (40 obs) right son=475 (34 obs)\n",
      "  Primary splits:\n",
      "      TCP_CONVERSATION_EXCHANGE < 2.249905  to the left,  improve=3.743164, (0 missing)\n",
      "      REMOTE_APP_PACKETS        < 2.249905  to the left,  improve=3.544286, (0 missing)\n",
      "      APP_BYTES                 < 7.116825  to the left,  improve=3.184144, (0 missing)\n",
      "      SOURCE_APP_BYTES          < 7.930907  to the left,  improve=2.568387, (0 missing)\n",
      "      REMOTE_IPS                < 1.497866  to the left,  improve=1.858430, (0 missing)\n",
      "  Surrogate splits:\n",
      "      APP_BYTES          < 6.999861  to the left,  agree=0.932, adj=0.853, (0 split)\n",
      "      SOURCE_APP_PACKETS < 2.740319  to the left,  agree=0.892, adj=0.765, (0 split)\n",
      "      REMOTE_APP_BYTES   < 7.251953  to the left,  agree=0.878, adj=0.735, (0 split)\n",
      "      REMOTE_APP_PACKETS < 2.524928  to the left,  agree=0.865, adj=0.706, (0 split)\n",
      "      REMOTE_IPS         < 1.497866  to the left,  agree=0.838, adj=0.647, (0 split)\n",
      "\n",
      "Node number 474: 40 observations,    complexity param=0.0162037\n",
      "  predicted class=0  expected loss=0.475  P(node) =0.02245929\n",
      "    class counts:    21    19\n",
      "   probabilities: 0.525 0.475 \n",
      "  left son=948 (8 obs) right son=949 (32 obs)\n",
      "  Primary splits:\n",
      "      REMOTE_APP_PACKETS < 2.524928  to the right, improve=4.512500, (0 missing)\n",
      "      REMOTE_APP_BYTES   < 7.134632  to the right, improve=2.450000, (0 missing)\n",
      "      APP_BYTES          < 6.636086  to the right, improve=2.297578, (0 missing)\n",
      "      SOURCE_APP_PACKETS < 2.524928  to the right, improve=2.016667, (0 missing)\n",
      "      SOURCE_APP_BYTES   < 7.237223  to the right, improve=1.934655, (0 missing)\n",
      "  Surrogate splits:\n",
      "      REMOTE_APP_BYTES   < 7.134632  to the right, agree=0.900, adj=0.500, (0 split)\n",
      "      APP_BYTES          < 6.678914  to the right, agree=0.900, adj=0.500, (0 split)\n",
      "      SOURCE_APP_PACKETS < 2.602003  to the right, agree=0.875, adj=0.375, (0 split)\n",
      "      URL_LENGTH         < 3.701226  to the right, agree=0.850, adj=0.250, (0 split)\n",
      "      SOURCE_APP_BYTES   < 7.610318  to the right, agree=0.825, adj=0.125, (0 split)\n",
      "\n",
      "Node number 475: 34 observations\n",
      "  predicted class=1  expected loss=0.2058824  P(node) =0.0190904\n",
      "    class counts:     7    27\n",
      "   probabilities: 0.206 0.794 \n",
      "\n",
      "Node number 948: 8 observations\n",
      "  predicted class=0  expected loss=0  P(node) =0.004491859\n",
      "    class counts:     8     0\n",
      "   probabilities: 1.000 0.000 \n",
      "\n",
      "Node number 949: 32 observations,    complexity param=0.0162037\n",
      "  predicted class=1  expected loss=0.40625  P(node) =0.01796743\n",
      "    class counts:    13    19\n",
      "   probabilities: 0.406 0.594 \n",
      "  left son=1898 (10 obs) right son=1899 (22 obs)\n",
      "  Primary splits:\n",
      "      SOURCE_APP_BYTES          < 6.901421  to the left,  improve=2.5102270, (0 missing)\n",
      "      TCP_CONVERSATION_EXCHANGE < 2.012676  to the left,  improve=1.9152330, (0 missing)\n",
      "      REMOTE_IPS                < 1.242453  to the right, improve=1.6983700, (0 missing)\n",
      "      SOURCE_APP_PACKETS        < 2.249905  to the left,  improve=1.0920450, (0 missing)\n",
      "      APP_BYTES                 < 6.49065   to the left,  improve=0.9120098, (0 missing)\n",
      "  Surrogate splits:\n",
      "      REMOTE_IPS         < 1.242453  to the right, agree=0.906, adj=0.7, (0 split)\n",
      "      APP_BYTES          < 6.200079  to the left,  agree=0.875, adj=0.6, (0 split)\n",
      "      REMOTE_APP_BYTES   < 6.691834  to the left,  agree=0.844, adj=0.5, (0 split)\n",
      "      REMOTE_APP_PACKETS < 2.071567  to the left,  agree=0.781, adj=0.3, (0 split)\n",
      "      SOURCE_APP_PACKETS < 2.012676  to the left,  agree=0.750, adj=0.2, (0 split)\n",
      "\n",
      "Node number 1898: 10 observations\n",
      "  predicted class=0  expected loss=0.3  P(node) =0.005614823\n",
      "    class counts:     7     3\n",
      "   probabilities: 0.700 0.300 \n",
      "\n",
      "Node number 1899: 22 observations\n",
      "  predicted class=1  expected loss=0.2727273  P(node) =0.01235261\n",
      "    class counts:     6    16\n",
      "   probabilities: 0.273 0.727 \n",
      "\n"
     ]
    },
    {
     "name": "stdout",
     "output_type": "stream",
     "text": [
      "\n",
      "Classification tree:\n",
      "rpart(formula = y_train ~ ., data = train_cap, method = \"class\", \n",
      "    control = rpart.control(cp = 0.01))\n",
      "\n",
      "Variables actually used in tree construction:\n",
      "[1] DIST_REMOTE_TCP_PORT      REMOTE_APP_BYTES         \n",
      "[3] REMOTE_APP_PACKETS        REMOTE_IPS               \n",
      "[5] SOURCE_APP_BYTES          SOURCE_APP_PACKETS       \n",
      "[7] TCP_CONVERSATION_EXCHANGE URL_LENGTH               \n",
      "\n",
      "Root node error: 216/1781 = 0.12128\n",
      "\n",
      "n= 1781 \n",
      "\n",
      "        CP nsplit rel error  xerror     xstd\n",
      "1 0.120370      0   1.00000 1.00000 0.063782\n",
      "2 0.085648      3   0.63889 0.65741 0.052923\n",
      "3 0.016204      5   0.46759 0.48148 0.045814\n",
      "4 0.012346     10   0.37963 0.47685 0.045607\n",
      "5 0.010000     13   0.34259 0.46296 0.044978\n"
     ]
    },
    {
     "data": {
      "image/png": "[encoded data removed]",
      "text/plain": [
       "plot without title"
      ]
     },
     "metadata": {},
     "output_type": "display_data"
    },
    {
     "data": {
      "image/png": "[encoded data removed]",
      "text/plain": [
       "plot without title"
      ]
     },
     "metadata": {},
     "output_type": "display_data"
    }
   ],
   "source": [
    "library(rpart)\n",
    "library(rpart.plot)\n",
    "# grow tree \n",
    "fit <- rpart(y_train ~ ., data = train_cap ,method=\"class\",control = rpart.control(cp = 0.01))\n",
    "summary(fit)\n",
    "predicted= predict(fit,x_test)\n",
    "plotcp(fit)\n",
    "printcp(fit)\n",
    "rpart.plot(fit, \n",
    "           box.palette=\"RdYlGn\",\n",
    "           branch.lty=3, shadow.col=\"gray\", nn=TRUE)"
   ]
  },
  {
   "cell_type": "code",
   "execution_count": 54,
   "metadata": {},
   "outputs": [
    {
     "name": "stderr",
     "output_type": "stream",
     "text": [
      "Warning message:\n",
      "\"package 'e1071' was built under R version 3.6.3\"\n",
      "Attaching package: 'e1071'\n",
      "\n",
      "The following object is masked from 'package:Hmisc':\n",
      "\n",
      "    impute\n",
      "\n"
     ]
    },
    {
     "data": {
      "text/plain": [
       "\n",
       "Call:\n",
       "svm(formula = y_train ~ ., data = train_cap)\n",
       "\n",
       "\n",
       "Parameters:\n",
       "   SVM-Type:  eps-regression \n",
       " SVM-Kernel:  radial \n",
       "       cost:  1 \n",
       "      gamma:  0.1111111 \n",
       "    epsilon:  0.1 \n",
       "\n",
       "\n",
       "Number of Support Vectors:  427\n",
       "\n",
       "\n",
       "\n",
       "\n"
      ]
     },
     "metadata": {},
     "output_type": "display_data"
    }
   ],
   "source": [
    "library(e1071)\n",
    "#x <- cbind(x_train,y_train)\n",
    "# Fitting model\n",
    "fit <-svm(y_train ~ ., data = train_cap)# try using the train_cap and train_other\n",
    "summary(fit)\n",
    "#Predict Output \n",
    "predicted= predict(fit,x_test)"
   ]
  },
  {
   "cell_type": "code",
   "execution_count": 55,
   "metadata": {},
   "outputs": [
    {
     "data": {
      "text/plain": [
       "          Length Class  Mode   \n",
       "apriori    2     table  numeric\n",
       "tables    21     -none- list   \n",
       "levels     0     -none- NULL   \n",
       "isnumeric 21     -none- logical\n",
       "call       4     -none- call   "
      ]
     },
     "metadata": {},
     "output_type": "display_data"
    }
   ],
   "source": [
    "library(e1071)\n",
    "# Fitting model\n",
    "fit <-naiveBayes(y_train ~ ., data = train_combine)#read and try to find parameters\n",
    "summary(fit)\n",
    "#Predict Output \n",
    "predicted= predict(fit,x_test)"
   ]
  },
  {
   "cell_type": "code",
   "execution_count": 56,
   "metadata": {},
   "outputs": [],
   "source": [
    "#install.packages(\"forecast\")"
   ]
  },
  {
   "cell_type": "code",
   "execution_count": 57,
   "metadata": {},
   "outputs": [
    {
     "name": "stderr",
     "output_type": "stream",
     "text": [
      "randomForest 4.6-14\n",
      "Type rfNews() to see new features/changes/bug fixes.\n",
      "\n",
      "Attaching package: 'randomForest'\n",
      "\n",
      "The following object is masked from 'package:dplyr':\n",
      "\n",
      "    combine\n",
      "\n",
      "The following object is masked from 'package:ggplot2':\n",
      "\n",
      "    margin\n",
      "\n",
      "Warning message:\n",
      "\"package 'forecast' was built under R version 3.6.3\"Registered S3 method overwritten by 'xts':\n",
      "  method     from\n",
      "  as.zoo.xts zoo \n",
      "Registered S3 method overwritten by 'quantmod':\n",
      "  method            from\n",
      "  as.zoo.data.frame zoo \n",
      "Warning message in randomForest.default(m, y, ...):\n",
      "\"The response has five or fewer unique values.  Are you sure you want to do regression?\""
     ]
    },
    {
     "data": {
      "text/plain": [
       "                Length Class  Mode     \n",
       "call               7   -none- call     \n",
       "type               1   -none- character\n",
       "predicted       1781   -none- numeric  \n",
       "mse              500   -none- numeric  \n",
       "rsq              500   -none- numeric  \n",
       "oob.times       1781   -none- numeric  \n",
       "importance        18   -none- numeric  \n",
       "importanceSD       9   -none- numeric  \n",
       "localImportance    0   -none- NULL     \n",
       "proximity          0   -none- NULL     \n",
       "ntree              1   -none- numeric  \n",
       "mtry               1   -none- numeric  \n",
       "forest            11   -none- list     \n",
       "coefs              0   -none- NULL     \n",
       "y               1781   -none- numeric  \n",
       "test               0   -none- NULL     \n",
       "inbag              0   -none- NULL     \n",
       "terms              3   terms  call     "
      ]
     },
     "metadata": {},
     "output_type": "display_data"
    },
    {
     "ename": "ERROR",
     "evalue": "Error in testaccuracy(object, x, test, d, D): Not enough forecasts. Check that forecasts and test data match.\n",
     "output_type": "error",
     "traceback": [
      "Error in testaccuracy(object, x, test, d, D): Not enough forecasts. Check that forecasts and test data match.\nTraceback:\n",
      "1. accuracy(predicted, train_combine$Ty)",
      "2. accuracy.default(predicted, train_combine$Ty)",
      "3. testaccuracy(object, x, test, d, D)",
      "4. stop(\"Not enough forecasts. Check that forecasts and test data match.\")"
     ]
    },
    {
     "data": {
      "image/png": "[encoded data removed]",
      "text/plain": [
       "Plot with title \"fit\""
      ]
     },
     "metadata": {},
     "output_type": "display_data"
    }
   ],
   "source": [
    "library(randomForest)\n",
    "library(forecast)\n",
    "# Fitting model\n",
    "fit <- randomForest(y_train ~ ., train_cap,importance =TRUE,ntree=500,nodesize=7, na.action=na.roughfix)\n",
    "summary(fit)\n",
    "varImpPlot(fit, type=1) # plotting the graph\n",
    "#Predict Output \n",
    "predicted= predict(fit,x_test)\n",
    "accuracy(predicted, train_combine$Ty)"
   ]
  },
  {
   "cell_type": "code",
   "execution_count": null,
   "metadata": {},
   "outputs": [],
   "source": []
  }
 ],
 "metadata": {
  "kernelspec": {
   "display_name": "R",
   "language": "R",
   "name": "ir"
  },
  "language_info": {
   "codemirror_mode": "r",
   "file_extension": ".r",
   "mimetype": "text/x-r-source",
   "name": "R",
   "pygments_lexer": "r",
   "version": "3.6.1"
  }
 },
 "nbformat": 4,
 "nbformat_minor": 4
}
